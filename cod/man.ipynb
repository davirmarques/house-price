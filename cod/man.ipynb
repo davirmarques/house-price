{
 "cells": [
  {
   "cell_type": "code",
   "execution_count": 3,
   "id": "tamil-timer",
   "metadata": {},
   "outputs": [],
   "source": [
    "import pandas as pd\n",
    "import numpy as np\n",
    "from sklearn.model_selection import train_test_split\n",
    "from sklearn.preprocessing import StandardScaler\n",
    "from sklearn import preprocessing\n",
    "import pickle"
   ]
  },
  {
   "cell_type": "code",
   "execution_count": 4,
   "id": "broken-dependence",
   "metadata": {},
   "outputs": [],
   "source": [
    "df = pd.read_csv(\"train.csv\")"
   ]
  },
  {
   "cell_type": "code",
   "execution_count": 5,
   "id": "important-memphis",
   "metadata": {},
   "outputs": [
    {
     "data": {
      "text/html": [
       "<div>\n",
       "<style scoped>\n",
       "    .dataframe tbody tr th:only-of-type {\n",
       "        vertical-align: middle;\n",
       "    }\n",
       "\n",
       "    .dataframe tbody tr th {\n",
       "        vertical-align: top;\n",
       "    }\n",
       "\n",
       "    .dataframe thead th {\n",
       "        text-align: right;\n",
       "    }\n",
       "</style>\n",
       "<table border=\"1\" class=\"dataframe\">\n",
       "  <thead>\n",
       "    <tr style=\"text-align: right;\">\n",
       "      <th></th>\n",
       "      <th>Id</th>\n",
       "      <th>MSSubClass</th>\n",
       "      <th>MSZoning</th>\n",
       "      <th>LotFrontage</th>\n",
       "      <th>LotArea</th>\n",
       "      <th>Street</th>\n",
       "      <th>Alley</th>\n",
       "      <th>LotShape</th>\n",
       "      <th>LandContour</th>\n",
       "      <th>Utilities</th>\n",
       "      <th>...</th>\n",
       "      <th>PoolArea</th>\n",
       "      <th>PoolQC</th>\n",
       "      <th>Fence</th>\n",
       "      <th>MiscFeature</th>\n",
       "      <th>MiscVal</th>\n",
       "      <th>MoSold</th>\n",
       "      <th>YrSold</th>\n",
       "      <th>SaleType</th>\n",
       "      <th>SaleCondition</th>\n",
       "      <th>SalePrice</th>\n",
       "    </tr>\n",
       "  </thead>\n",
       "  <tbody>\n",
       "    <tr>\n",
       "      <th>0</th>\n",
       "      <td>1</td>\n",
       "      <td>60</td>\n",
       "      <td>RL</td>\n",
       "      <td>65</td>\n",
       "      <td>8450</td>\n",
       "      <td>Pave</td>\n",
       "      <td>0</td>\n",
       "      <td>Reg</td>\n",
       "      <td>Lvl</td>\n",
       "      <td>AllPub</td>\n",
       "      <td>...</td>\n",
       "      <td>0</td>\n",
       "      <td>0</td>\n",
       "      <td>0</td>\n",
       "      <td>0</td>\n",
       "      <td>0</td>\n",
       "      <td>2</td>\n",
       "      <td>2008</td>\n",
       "      <td>WD</td>\n",
       "      <td>Normal</td>\n",
       "      <td>208500</td>\n",
       "    </tr>\n",
       "    <tr>\n",
       "      <th>1</th>\n",
       "      <td>2</td>\n",
       "      <td>20</td>\n",
       "      <td>RL</td>\n",
       "      <td>80</td>\n",
       "      <td>9600</td>\n",
       "      <td>Pave</td>\n",
       "      <td>0</td>\n",
       "      <td>Reg</td>\n",
       "      <td>Lvl</td>\n",
       "      <td>AllPub</td>\n",
       "      <td>...</td>\n",
       "      <td>0</td>\n",
       "      <td>0</td>\n",
       "      <td>0</td>\n",
       "      <td>0</td>\n",
       "      <td>0</td>\n",
       "      <td>5</td>\n",
       "      <td>2007</td>\n",
       "      <td>WD</td>\n",
       "      <td>Normal</td>\n",
       "      <td>181500</td>\n",
       "    </tr>\n",
       "    <tr>\n",
       "      <th>2</th>\n",
       "      <td>3</td>\n",
       "      <td>60</td>\n",
       "      <td>RL</td>\n",
       "      <td>68</td>\n",
       "      <td>11250</td>\n",
       "      <td>Pave</td>\n",
       "      <td>0</td>\n",
       "      <td>IR1</td>\n",
       "      <td>Lvl</td>\n",
       "      <td>AllPub</td>\n",
       "      <td>...</td>\n",
       "      <td>0</td>\n",
       "      <td>0</td>\n",
       "      <td>0</td>\n",
       "      <td>0</td>\n",
       "      <td>0</td>\n",
       "      <td>9</td>\n",
       "      <td>2008</td>\n",
       "      <td>WD</td>\n",
       "      <td>Normal</td>\n",
       "      <td>223500</td>\n",
       "    </tr>\n",
       "    <tr>\n",
       "      <th>3</th>\n",
       "      <td>4</td>\n",
       "      <td>70</td>\n",
       "      <td>RL</td>\n",
       "      <td>60</td>\n",
       "      <td>9550</td>\n",
       "      <td>Pave</td>\n",
       "      <td>0</td>\n",
       "      <td>IR1</td>\n",
       "      <td>Lvl</td>\n",
       "      <td>AllPub</td>\n",
       "      <td>...</td>\n",
       "      <td>0</td>\n",
       "      <td>0</td>\n",
       "      <td>0</td>\n",
       "      <td>0</td>\n",
       "      <td>0</td>\n",
       "      <td>2</td>\n",
       "      <td>2006</td>\n",
       "      <td>WD</td>\n",
       "      <td>Abnorml</td>\n",
       "      <td>140000</td>\n",
       "    </tr>\n",
       "    <tr>\n",
       "      <th>4</th>\n",
       "      <td>5</td>\n",
       "      <td>60</td>\n",
       "      <td>RL</td>\n",
       "      <td>84</td>\n",
       "      <td>14260</td>\n",
       "      <td>Pave</td>\n",
       "      <td>0</td>\n",
       "      <td>IR1</td>\n",
       "      <td>Lvl</td>\n",
       "      <td>AllPub</td>\n",
       "      <td>...</td>\n",
       "      <td>0</td>\n",
       "      <td>0</td>\n",
       "      <td>0</td>\n",
       "      <td>0</td>\n",
       "      <td>0</td>\n",
       "      <td>12</td>\n",
       "      <td>2008</td>\n",
       "      <td>WD</td>\n",
       "      <td>Normal</td>\n",
       "      <td>250000</td>\n",
       "    </tr>\n",
       "  </tbody>\n",
       "</table>\n",
       "<p>5 rows × 81 columns</p>\n",
       "</div>"
      ],
      "text/plain": [
       "   Id  MSSubClass MSZoning  LotFrontage  LotArea Street Alley LotShape  \\\n",
       "0   1          60       RL           65     8450   Pave     0      Reg   \n",
       "1   2          20       RL           80     9600   Pave     0      Reg   \n",
       "2   3          60       RL           68    11250   Pave     0      IR1   \n",
       "3   4          70       RL           60     9550   Pave     0      IR1   \n",
       "4   5          60       RL           84    14260   Pave     0      IR1   \n",
       "\n",
       "  LandContour Utilities  ... PoolArea PoolQC Fence MiscFeature MiscVal MoSold  \\\n",
       "0         Lvl    AllPub  ...        0      0     0           0       0      2   \n",
       "1         Lvl    AllPub  ...        0      0     0           0       0      5   \n",
       "2         Lvl    AllPub  ...        0      0     0           0       0      9   \n",
       "3         Lvl    AllPub  ...        0      0     0           0       0      2   \n",
       "4         Lvl    AllPub  ...        0      0     0           0       0     12   \n",
       "\n",
       "  YrSold  SaleType  SaleCondition  SalePrice  \n",
       "0   2008        WD         Normal     208500  \n",
       "1   2007        WD         Normal     181500  \n",
       "2   2008        WD         Normal     223500  \n",
       "3   2006        WD        Abnorml     140000  \n",
       "4   2008        WD         Normal     250000  \n",
       "\n",
       "[5 rows x 81 columns]"
      ]
     },
     "execution_count": 5,
     "metadata": {},
     "output_type": "execute_result"
    }
   ],
   "source": [
    "df.head()"
   ]
  },
  {
   "cell_type": "code",
   "execution_count": 6,
   "id": "miniature-language",
   "metadata": {},
   "outputs": [
    {
     "data": {
      "text/plain": [
       "Index(['Id', 'MSSubClass', 'MSZoning', 'LotFrontage', 'LotArea', 'Street',\n",
       "       'Alley', 'LotShape', 'LandContour', 'Utilities', 'LotConfig',\n",
       "       'LandSlope', 'Neighborhood', 'Condition1', 'Condition2', 'BldgType',\n",
       "       'HouseStyle', 'OverallQual', 'OverallCond', 'YearBuilt', 'YearRemodAdd',\n",
       "       'RoofStyle', 'RoofMatl', 'Exterior1st', 'Exterior2nd', 'MasVnrType',\n",
       "       'MasVnrArea', 'ExterQual', 'ExterCond', 'Foundation', 'BsmtQual',\n",
       "       'BsmtCond', 'BsmtExposure', 'BsmtFinType1', 'BsmtFinSF1',\n",
       "       'BsmtFinType2', 'BsmtFinSF2', 'BsmtUnfSF', 'TotalBsmtSF', 'Heating',\n",
       "       'HeatingQC', 'CentralAir', 'Electrical', '1stFlrSF', '2ndFlrSF',\n",
       "       'LowQualFinSF', 'GrLivArea', 'BsmtFullBath', 'BsmtHalfBath', 'FullBath',\n",
       "       'HalfBath', 'BedroomAbvGr', 'KitchenAbvGr', 'KitchenQual',\n",
       "       'TotRmsAbvGrd', 'Functional', 'Fireplaces', 'FireplaceQu', 'GarageType',\n",
       "       'GarageYrBlt', 'GarageFinish', 'GarageCars', 'GarageArea', 'GarageQual',\n",
       "       'GarageCond', 'PavedDrive', 'WoodDeckSF', 'OpenPorchSF',\n",
       "       'EnclosedPorch', '3SsnPorch', 'ScreenPorch', 'PoolArea', 'PoolQC',\n",
       "       'Fence', 'MiscFeature', 'MiscVal', 'MoSold', 'YrSold', 'SaleType',\n",
       "       'SaleCondition', 'SalePrice'],\n",
       "      dtype='object')"
      ]
     },
     "execution_count": 6,
     "metadata": {},
     "output_type": "execute_result"
    }
   ],
   "source": [
    "df.columns"
   ]
  },
  {
   "cell_type": "code",
   "execution_count": 7,
   "id": "secret-diabetes",
   "metadata": {},
   "outputs": [
    {
     "data": {
      "text/plain": [
       "Id               0\n",
       "MSSubClass       0\n",
       "MSZoning         0\n",
       "LotFrontage      0\n",
       "LotArea          0\n",
       "                ..\n",
       "MoSold           0\n",
       "YrSold           0\n",
       "SaleType         0\n",
       "SaleCondition    0\n",
       "SalePrice        0\n",
       "Length: 81, dtype: int64"
      ]
     },
     "execution_count": 7,
     "metadata": {},
     "output_type": "execute_result"
    }
   ],
   "source": [
    "df.isnull().sum()"
   ]
  },
  {
   "cell_type": "code",
   "execution_count": 8,
   "id": "advance-norman",
   "metadata": {},
   "outputs": [],
   "source": [
    "df_target = df[['SalePrice']]"
   ]
  },
  {
   "cell_type": "code",
   "execution_count": 9,
   "id": "herbal-combination",
   "metadata": {},
   "outputs": [],
   "source": [
    "df_ = df.drop(['SalePrice'], axis = 1)"
   ]
  },
  {
   "cell_type": "code",
   "execution_count": 10,
   "id": "rubber-advisory",
   "metadata": {},
   "outputs": [
    {
     "data": {
      "text/plain": [
       "SalePrice    0\n",
       "dtype: int64"
      ]
     },
     "execution_count": 10,
     "metadata": {},
     "output_type": "execute_result"
    }
   ],
   "source": [
    "df_target.isnull().sum()"
   ]
  },
  {
   "cell_type": "code",
   "execution_count": 11,
   "id": "periodic-announcement",
   "metadata": {},
   "outputs": [
    {
     "data": {
      "text/plain": [
       "Id               0\n",
       "MSSubClass       0\n",
       "MSZoning         0\n",
       "LotFrontage      0\n",
       "LotArea          0\n",
       "                ..\n",
       "MiscVal          0\n",
       "MoSold           0\n",
       "YrSold           0\n",
       "SaleType         0\n",
       "SaleCondition    0\n",
       "Length: 80, dtype: int64"
      ]
     },
     "execution_count": 11,
     "metadata": {},
     "output_type": "execute_result"
    }
   ],
   "source": [
    "df_.isnull().sum()"
   ]
  },
  {
   "cell_type": "code",
   "execution_count": 12,
   "id": "central-dodge",
   "metadata": {},
   "outputs": [
    {
     "data": {
      "text/plain": [
       "Index(['Id', 'MSSubClass', 'MSZoning', 'LotFrontage', 'LotArea', 'Street',\n",
       "       'Alley', 'LotShape', 'LandContour', 'Utilities', 'LotConfig',\n",
       "       'LandSlope', 'Neighborhood', 'Condition1', 'Condition2', 'BldgType',\n",
       "       'HouseStyle', 'OverallQual', 'OverallCond', 'YearBuilt', 'YearRemodAdd',\n",
       "       'RoofStyle', 'RoofMatl', 'Exterior1st', 'Exterior2nd', 'MasVnrType',\n",
       "       'MasVnrArea', 'ExterQual', 'ExterCond', 'Foundation', 'BsmtQual',\n",
       "       'BsmtCond', 'BsmtExposure', 'BsmtFinType1', 'BsmtFinSF1',\n",
       "       'BsmtFinType2', 'BsmtFinSF2', 'BsmtUnfSF', 'TotalBsmtSF', 'Heating',\n",
       "       'HeatingQC', 'CentralAir', 'Electrical', '1stFlrSF', '2ndFlrSF',\n",
       "       'LowQualFinSF', 'GrLivArea', 'BsmtFullBath', 'BsmtHalfBath', 'FullBath',\n",
       "       'HalfBath', 'BedroomAbvGr', 'KitchenAbvGr', 'KitchenQual',\n",
       "       'TotRmsAbvGrd', 'Functional', 'Fireplaces', 'FireplaceQu', 'GarageType',\n",
       "       'GarageYrBlt', 'GarageFinish', 'GarageCars', 'GarageArea', 'GarageQual',\n",
       "       'GarageCond', 'PavedDrive', 'WoodDeckSF', 'OpenPorchSF',\n",
       "       'EnclosedPorch', '3SsnPorch', 'ScreenPorch', 'PoolArea', 'PoolQC',\n",
       "       'Fence', 'MiscFeature', 'MiscVal', 'MoSold', 'YrSold', 'SaleType',\n",
       "       'SaleCondition', 'SalePrice'],\n",
       "      dtype='object')"
      ]
     },
     "execution_count": 12,
     "metadata": {},
     "output_type": "execute_result"
    }
   ],
   "source": [
    "df.columns"
   ]
  },
  {
   "cell_type": "code",
   "execution_count": 13,
   "id": "congressional-gabriel",
   "metadata": {},
   "outputs": [
    {
     "data": {
      "text/plain": [
       "(array([ 20,  30,  40,  45,  50,  60,  70,  75,  80,  85,  90, 120, 160,\n",
       "        180, 190]),\n",
       " array([536,  69,   4,  12, 144, 299,  60,  16,  58,  20,  52,  87,  63,\n",
       "         10,  30]))"
      ]
     },
     "execution_count": 13,
     "metadata": {},
     "output_type": "execute_result"
    }
   ],
   "source": [
    "np.unique(df['MSSubClass'],return_counts = True)"
   ]
  },
  {
   "cell_type": "code",
   "execution_count": 14,
   "id": "weighted-tennis",
   "metadata": {},
   "outputs": [
    {
     "data": {
      "text/plain": [
       "(array(['C (all)', 'FV', 'RH', 'RL', 'RM'], dtype=object),\n",
       " array([  10,   65,   16, 1151,  218]))"
      ]
     },
     "execution_count": 14,
     "metadata": {},
     "output_type": "execute_result"
    }
   ],
   "source": [
    "np.unique(df['MSZoning'],return_counts = True)"
   ]
  },
  {
   "cell_type": "code",
   "execution_count": 92,
   "id": "written-moisture",
   "metadata": {},
   "outputs": [],
   "source": [
    "df_menu = df_"
   ]
  },
  {
   "cell_type": "code",
   "execution_count": null,
   "id": "southern-polish",
   "metadata": {},
   "outputs": [],
   "source": [
    "df_MSZoning = pd.get_dummies(df['MSZoning'], dummy_na=True)"
   ]
  },
  {
   "cell_type": "code",
   "execution_count": null,
   "id": "second-satin",
   "metadata": {},
   "outputs": [],
   "source": []
  },
  {
   "cell_type": "code",
   "execution_count": null,
   "id": "automotive-world",
   "metadata": {},
   "outputs": [],
   "source": []
  },
  {
   "cell_type": "code",
   "execution_count": null,
   "id": "entertaining-admission",
   "metadata": {},
   "outputs": [],
   "source": []
  },
  {
   "cell_type": "code",
   "execution_count": 15,
   "id": "every-recipe",
   "metadata": {},
   "outputs": [
    {
     "data": {
      "text/plain": [
       "(array([  0,  21,  24,  30,  32,  33,  34,  35,  36,  37,  38,  39,  40,\n",
       "         41,  42,  43,  44,  45,  46,  47,  48,  49,  50,  51,  52,  53,\n",
       "         54,  55,  56,  57,  58,  59,  60,  61,  62,  63,  64,  65,  66,\n",
       "         67,  68,  69,  70,  71,  72,  73,  74,  75,  76,  77,  78,  79,\n",
       "         80,  81,  82,  83,  84,  85,  86,  87,  88,  89,  90,  91,  92,\n",
       "         93,  94,  95,  96,  97,  98,  99, 100, 101, 102, 103, 104, 105,\n",
       "        106, 107, 108, 109, 110, 111, 112, 114, 115, 116, 118, 120, 121,\n",
       "        122, 124, 128, 129, 130, 134, 137, 138, 140, 141, 144, 149, 150,\n",
       "        152, 153, 160, 168, 174, 182, 313]),\n",
       " array([259,  23,  19,   6,   5,   1,  10,   9,   6,   5,   1,   1,  12,\n",
       "          6,   4,  12,   9,   3,   1,   5,   6,   4,  57,  15,  14,  10,\n",
       "          6,  17,   5,  12,   7,  13, 143,   8,   9,  17,  19,  44,  15,\n",
       "         12,  19,  11,  70,  12,  17,  18,  15,  53,  11,   9,  25,  17,\n",
       "         69,   6,  12,   5,   9,  40,  10,   5,  10,   6,  23,   6,  10,\n",
       "          8,   6,   7,   8,   2,   8,   3,  16,   2,   4,   3,   3,   6,\n",
       "          1,   7,   3,   2,   6,   1,   1,   2,   2,   2,   2,   7,   2,\n",
       "          2,   2,   1,   2,   3,   2,   1,   1,   1,   1,   1,   1,   1,\n",
       "          1,   1,   1,   1,   2,   1,   2]))"
      ]
     },
     "execution_count": 15,
     "metadata": {},
     "output_type": "execute_result"
    }
   ],
   "source": [
    "np.unique(df['LotFrontage'],return_counts = True)"
   ]
  },
  {
   "cell_type": "code",
   "execution_count": 16,
   "id": "stunning-contribution",
   "metadata": {},
   "outputs": [
    {
     "data": {
      "text/plain": [
       "(array([  1300,   1477,   1491, ..., 159000, 164660, 215245]),\n",
       " array([1, 1, 1, ..., 1, 1, 1]))"
      ]
     },
     "execution_count": 16,
     "metadata": {},
     "output_type": "execute_result"
    }
   ],
   "source": [
    "np.unique(df['LotArea'],return_counts = True)"
   ]
  },
  {
   "cell_type": "code",
   "execution_count": 17,
   "id": "mediterranean-canberra",
   "metadata": {},
   "outputs": [
    {
     "data": {
      "text/plain": [
       "(array(['Grvl', 'Pave'], dtype=object), array([   6, 1454]))"
      ]
     },
     "execution_count": 17,
     "metadata": {},
     "output_type": "execute_result"
    }
   ],
   "source": [
    "np.unique(df['Street'],return_counts = True)"
   ]
  },
  {
   "cell_type": "code",
   "execution_count": 18,
   "id": "computational-bhutan",
   "metadata": {},
   "outputs": [
    {
     "data": {
      "text/plain": [
       "(array(['0', 'Grvl', 'Pave'], dtype=object), array([1369,   50,   41]))"
      ]
     },
     "execution_count": 18,
     "metadata": {},
     "output_type": "execute_result"
    }
   ],
   "source": [
    "np.unique(df['Alley'],return_counts = True)"
   ]
  },
  {
   "cell_type": "code",
   "execution_count": 19,
   "id": "norman-reaction",
   "metadata": {},
   "outputs": [
    {
     "data": {
      "text/plain": [
       "(array(['IR1', 'IR2', 'IR3', 'Reg'], dtype=object),\n",
       " array([484,  41,  10, 925]))"
      ]
     },
     "execution_count": 19,
     "metadata": {},
     "output_type": "execute_result"
    }
   ],
   "source": [
    "np.unique(df['LotShape'],return_counts = True)"
   ]
  },
  {
   "cell_type": "code",
   "execution_count": 20,
   "id": "complete-execution",
   "metadata": {},
   "outputs": [
    {
     "data": {
      "text/plain": [
       "(array(['Bnk', 'HLS', 'Low', 'Lvl'], dtype=object),\n",
       " array([  63,   50,   36, 1311]))"
      ]
     },
     "execution_count": 20,
     "metadata": {},
     "output_type": "execute_result"
    }
   ],
   "source": [
    "np.unique(df['LandContour'],return_counts = True)"
   ]
  },
  {
   "cell_type": "code",
   "execution_count": 21,
   "id": "harmful-morning",
   "metadata": {},
   "outputs": [
    {
     "data": {
      "text/plain": [
       "(array(['AllPub', 'NoSeWa'], dtype=object), array([1459,    1]))"
      ]
     },
     "execution_count": 21,
     "metadata": {},
     "output_type": "execute_result"
    }
   ],
   "source": [
    "np.unique(df['Utilities'],return_counts = True)"
   ]
  },
  {
   "cell_type": "code",
   "execution_count": 22,
   "id": "controlling-colorado",
   "metadata": {},
   "outputs": [
    {
     "data": {
      "text/plain": [
       "(array(['Corner', 'CulDSac', 'FR2', 'FR3', 'Inside'], dtype=object),\n",
       " array([ 263,   94,   47,    4, 1052]))"
      ]
     },
     "execution_count": 22,
     "metadata": {},
     "output_type": "execute_result"
    }
   ],
   "source": [
    "np.unique(df['LotConfig'],return_counts = True)"
   ]
  },
  {
   "cell_type": "code",
   "execution_count": 23,
   "id": "applied-purple",
   "metadata": {},
   "outputs": [
    {
     "data": {
      "text/plain": [
       "(array(['Gtl', 'Mod', 'Sev'], dtype=object), array([1382,   65,   13]))"
      ]
     },
     "execution_count": 23,
     "metadata": {},
     "output_type": "execute_result"
    }
   ],
   "source": [
    "np.unique(df['LandSlope'],return_counts = True)"
   ]
  },
  {
   "cell_type": "code",
   "execution_count": 24,
   "id": "numeric-string",
   "metadata": {},
   "outputs": [
    {
     "data": {
      "text/plain": [
       "(array(['Artery', 'Feedr', 'Norm', 'PosA', 'PosN', 'RRAe', 'RRAn', 'RRNe',\n",
       "        'RRNn'], dtype=object),\n",
       " array([  48,   81, 1260,    8,   19,   11,   26,    2,    5]))"
      ]
     },
     "execution_count": 24,
     "metadata": {},
     "output_type": "execute_result"
    }
   ],
   "source": [
    "np.unique(df['Condition1'],return_counts = True)"
   ]
  },
  {
   "cell_type": "code",
   "execution_count": 25,
   "id": "charged-circumstances",
   "metadata": {},
   "outputs": [
    {
     "data": {
      "text/plain": [
       "(array(['Artery', 'Feedr', 'Norm', 'PosA', 'PosN', 'RRAe', 'RRAn', 'RRNn'],\n",
       "       dtype=object),\n",
       " array([   2,    6, 1445,    1,    2,    1,    1,    2]))"
      ]
     },
     "execution_count": 25,
     "metadata": {},
     "output_type": "execute_result"
    }
   ],
   "source": [
    "np.unique(df['Condition2'],return_counts = True)"
   ]
  },
  {
   "cell_type": "code",
   "execution_count": 26,
   "id": "planned-dividend",
   "metadata": {},
   "outputs": [
    {
     "data": {
      "text/plain": [
       "(array(['1Fam', '2fmCon', 'Duplex', 'Twnhs', 'TwnhsE'], dtype=object),\n",
       " array([1220,   31,   52,   43,  114]))"
      ]
     },
     "execution_count": 26,
     "metadata": {},
     "output_type": "execute_result"
    }
   ],
   "source": [
    "np.unique(df['BldgType'],return_counts = True)"
   ]
  },
  {
   "cell_type": "code",
   "execution_count": 27,
   "id": "usual-pizza",
   "metadata": {},
   "outputs": [
    {
     "data": {
      "text/plain": [
       "(array(['1.5Fin', '1.5Unf', '1Story', '2.5Fin', '2.5Unf', '2Story',\n",
       "        'SFoyer', 'SLvl'], dtype=object),\n",
       " array([154,  14, 726,   8,  11, 445,  37,  65]))"
      ]
     },
     "execution_count": 27,
     "metadata": {},
     "output_type": "execute_result"
    }
   ],
   "source": [
    "np.unique(df['HouseStyle'],return_counts = True)"
   ]
  },
  {
   "cell_type": "code",
   "execution_count": 28,
   "id": "radio-crystal",
   "metadata": {},
   "outputs": [
    {
     "data": {
      "text/plain": [
       "(array([ 1,  2,  3,  4,  5,  6,  7,  8,  9, 10]),\n",
       " array([  2,   3,  20, 116, 397, 374, 319, 168,  43,  18]))"
      ]
     },
     "execution_count": 28,
     "metadata": {},
     "output_type": "execute_result"
    }
   ],
   "source": [
    "np.unique(df['OverallQual'],return_counts = True)"
   ]
  },
  {
   "cell_type": "code",
   "execution_count": 29,
   "id": "partial-advancement",
   "metadata": {},
   "outputs": [
    {
     "data": {
      "text/plain": [
       "(array([1, 2, 3, 4, 5, 6, 7, 8, 9]),\n",
       " array([  1,   5,  25,  57, 821, 252, 205,  72,  22]))"
      ]
     },
     "execution_count": 29,
     "metadata": {},
     "output_type": "execute_result"
    }
   ],
   "source": [
    "np.unique(df['OverallCond'],return_counts = True)"
   ]
  },
  {
   "cell_type": "code",
   "execution_count": 30,
   "id": "immune-sitting",
   "metadata": {},
   "outputs": [
    {
     "data": {
      "text/plain": [
       "(array([1872, 1875, 1880, 1882, 1885, 1890, 1892, 1893, 1898, 1900, 1904,\n",
       "        1905, 1906, 1908, 1910, 1911, 1912, 1913, 1914, 1915, 1916, 1917,\n",
       "        1918, 1919, 1920, 1921, 1922, 1923, 1924, 1925, 1926, 1927, 1928,\n",
       "        1929, 1930, 1931, 1932, 1934, 1935, 1936, 1937, 1938, 1939, 1940,\n",
       "        1941, 1942, 1945, 1946, 1947, 1948, 1949, 1950, 1951, 1952, 1953,\n",
       "        1954, 1955, 1956, 1957, 1958, 1959, 1960, 1961, 1962, 1963, 1964,\n",
       "        1965, 1966, 1967, 1968, 1969, 1970, 1971, 1972, 1973, 1974, 1975,\n",
       "        1976, 1977, 1978, 1979, 1980, 1981, 1982, 1983, 1984, 1985, 1986,\n",
       "        1987, 1988, 1989, 1990, 1991, 1992, 1993, 1994, 1995, 1996, 1997,\n",
       "        1998, 1999, 2000, 2001, 2002, 2003, 2004, 2005, 2006, 2007, 2008,\n",
       "        2009, 2010]),\n",
       " array([ 1,  1,  4,  1,  2,  2,  2,  1,  1, 10,  1,  1,  1,  2, 17,  1,  3,\n",
       "         1,  7, 10,  8,  1,  7,  3, 30,  6,  8,  7,  7, 16,  9,  3,  7,  4,\n",
       "         9,  6,  4,  3,  6,  9,  5,  4,  8, 18, 15,  2,  6,  7,  5, 14, 12,\n",
       "        20,  6,  5, 12, 24, 16, 14, 20, 24, 26, 17, 14, 19, 16, 15, 24, 18,\n",
       "        16, 22, 14, 24, 22, 23, 11, 10,  8, 33, 32, 16,  9, 10,  5,  6,  4,\n",
       "         9,  5,  5,  3, 11,  3, 12,  5, 13, 17, 19, 18, 15, 14, 25, 25, 24,\n",
       "        20, 23, 45, 54, 64, 67, 49, 23, 18,  1]))"
      ]
     },
     "execution_count": 30,
     "metadata": {},
     "output_type": "execute_result"
    }
   ],
   "source": [
    "np.unique(df['YearBuilt'],return_counts = True)"
   ]
  },
  {
   "cell_type": "code",
   "execution_count": 31,
   "id": "metropolitan-jamaica",
   "metadata": {},
   "outputs": [
    {
     "data": {
      "text/plain": [
       "(array([1950, 1951, 1952, 1953, 1954, 1955, 1956, 1957, 1958, 1959, 1960,\n",
       "        1961, 1962, 1963, 1964, 1965, 1966, 1967, 1968, 1969, 1970, 1971,\n",
       "        1972, 1973, 1974, 1975, 1976, 1977, 1978, 1979, 1980, 1981, 1982,\n",
       "        1983, 1984, 1985, 1986, 1987, 1988, 1989, 1990, 1991, 1992, 1993,\n",
       "        1994, 1995, 1996, 1997, 1998, 1999, 2000, 2001, 2002, 2003, 2004,\n",
       "        2005, 2006, 2007, 2008, 2009, 2010]),\n",
       " array([178,   4,   5,  10,  14,   9,  10,   9,  15,  18,  12,   8,  14,\n",
       "         13,  11,  19,  15,  12,  17,  14,  26,  18,  20,  11,   7,  10,\n",
       "         30,  25,  16,  10,  12,   8,   7,   5,   7,   9,   5,  10,   9,\n",
       "         11,  15,  14,  17,  19,  22,  31,  36,  25,  36,  30,  55,  21,\n",
       "         48,  51,  62,  73,  97,  76,  40,  23,   6]))"
      ]
     },
     "execution_count": 31,
     "metadata": {},
     "output_type": "execute_result"
    }
   ],
   "source": [
    "np.unique(df['YearRemodAdd'],return_counts = True)"
   ]
  },
  {
   "cell_type": "code",
   "execution_count": 32,
   "id": "developmental-manual",
   "metadata": {},
   "outputs": [
    {
     "data": {
      "text/plain": [
       "(array(['Flat', 'Gable', 'Gambrel', 'Hip', 'Mansard', 'Shed'], dtype=object),\n",
       " array([  13, 1141,   11,  286,    7,    2]))"
      ]
     },
     "execution_count": 32,
     "metadata": {},
     "output_type": "execute_result"
    }
   ],
   "source": [
    "np.unique(df['RoofStyle'],return_counts = True)"
   ]
  },
  {
   "cell_type": "code",
   "execution_count": 33,
   "id": "overhead-traveler",
   "metadata": {},
   "outputs": [
    {
     "data": {
      "text/plain": [
       "(array(['ClyTile', 'CompShg', 'Membran', 'Metal', 'Roll', 'Tar&Grv',\n",
       "        'WdShake', 'WdShngl'], dtype=object),\n",
       " array([   1, 1434,    1,    1,    1,   11,    5,    6]))"
      ]
     },
     "execution_count": 33,
     "metadata": {},
     "output_type": "execute_result"
    }
   ],
   "source": [
    "np.unique(df['RoofMatl'],return_counts = True)"
   ]
  },
  {
   "cell_type": "code",
   "execution_count": 34,
   "id": "casual-russian",
   "metadata": {},
   "outputs": [
    {
     "data": {
      "text/plain": [
       "(array(['AsbShng', 'AsphShn', 'BrkComm', 'BrkFace', 'CBlock', 'CemntBd',\n",
       "        'HdBoard', 'ImStucc', 'MetalSd', 'Plywood', 'Stone', 'Stucco',\n",
       "        'VinylSd', 'Wd Sdng', 'WdShing'], dtype=object),\n",
       " array([ 20,   1,   2,  50,   1,  61, 222,   1, 220, 108,   2,  25, 515,\n",
       "        206,  26]))"
      ]
     },
     "execution_count": 34,
     "metadata": {},
     "output_type": "execute_result"
    }
   ],
   "source": [
    "np.unique(df['Exterior1st'],return_counts = True)"
   ]
  },
  {
   "cell_type": "code",
   "execution_count": 35,
   "id": "formal-backing",
   "metadata": {},
   "outputs": [
    {
     "data": {
      "text/plain": [
       "(array(['AsbShng', 'AsphShn', 'Brk Cmn', 'BrkFace', 'CBlock', 'CmentBd',\n",
       "        'HdBoard', 'ImStucc', 'MetalSd', 'Other', 'Plywood', 'Stone',\n",
       "        'Stucco', 'VinylSd', 'Wd Sdng', 'Wd Shng'], dtype=object),\n",
       " array([ 20,   3,   7,  25,   1,  60, 207,  10, 214,   1, 142,   5,  26,\n",
       "        504, 197,  38]))"
      ]
     },
     "execution_count": 35,
     "metadata": {},
     "output_type": "execute_result"
    }
   ],
   "source": [
    "np.unique(df['Exterior2nd'],return_counts = True)"
   ]
  },
  {
   "cell_type": "code",
   "execution_count": 36,
   "id": "meaningful-fever",
   "metadata": {},
   "outputs": [
    {
     "data": {
      "text/plain": [
       "(array(['0', 'BrkCmn', 'BrkFace', 'None', 'Stone'], dtype=object),\n",
       " array([  8,  15, 445, 864, 128]))"
      ]
     },
     "execution_count": 36,
     "metadata": {},
     "output_type": "execute_result"
    }
   ],
   "source": [
    "np.unique(df['MasVnrType'],return_counts = True)"
   ]
  },
  {
   "cell_type": "code",
   "execution_count": 37,
   "id": "jewish-orange",
   "metadata": {},
   "outputs": [
    {
     "data": {
      "text/plain": [
       "(array([   0,    1,   11,   14,   16,   18,   22,   24,   27,   28,   30,\n",
       "          31,   32,   34,   36,   38,   40,   41,   42,   44,   45,   46,\n",
       "          48,   50,   51,   53,   54,   56,   57,   60,   63,   64,   65,\n",
       "          66,   67,   68,   70,   72,   74,   75,   76,   80,   81,   82,\n",
       "          84,   85,   86,   88,   89,   90,   92,   94,   95,   96,   97,\n",
       "          98,   99,  100,  101,  102,  104,  105,  106,  108,  109,  110,\n",
       "         112,  113,  114,  115,  116,  117,  119,  120,  122,  123,  125,\n",
       "         126,  127,  128,  130,  132,  135,  136,  137,  138,  140,  142,\n",
       "         143,  144,  145,  146,  147,  148,  149,  150,  151,  153,  154,\n",
       "         156,  157,  158,  160,  161,  162,  163,  164,  165,  166,  167,\n",
       "         168,  169,  170,  171,  172,  174,  175,  176,  178,  180,  182,\n",
       "         183,  184,  186,  188,  189,  192,  194,  196,  200,  202,  203,\n",
       "         204,  205,  206,  207,  208,  209,  210,  212,  215,  216,  218,\n",
       "         219,  220,  223,  224,  225,  226,  228,  230,  232,  233,  234,\n",
       "         236,  237,  238,  240,  243,  244,  245,  246,  247,  248,  250,\n",
       "         252,  254,  255,  256,  258,  259,  260,  261,  262,  263,  266,\n",
       "         268,  270,  272,  274,  275,  278,  280,  281,  284,  285,  286,\n",
       "         287,  288,  289,  290,  292,  293,  294,  295,  296,  297,  298,\n",
       "         299,  300,  302,  304,  305,  306,  309,  310,  312,  315,  318,\n",
       "         320,  324,  328,  333,  335,  336,  337,  338,  340,  342,  344,\n",
       "         348,  350,  351,  359,  360,  361,  362,  365,  366,  368,  370,\n",
       "         375,  376,  378,  380,  381,  387,  388,  391,  396,  399,  408,\n",
       "         410,  412,  415,  420,  423,  424,  425,  426,  428,  432,  435,\n",
       "         436,  438,  442,  443,  448,  450,  451,  452,  456,  459,  464,\n",
       "         466,  468,  472,  473,  479,  480,  481,  491,  500,  506,  510,\n",
       "         513,  528,  530,  541,  554,  562,  564,  567,  571,  573,  576,\n",
       "         579,  584,  594,  600,  603,  604,  616,  621,  630,  632,  640,\n",
       "         650,  651,  653,  660,  664,  673,  705,  731,  748,  760,  762,\n",
       "         766,  768,  772,  788,  796,  816,  860,  870,  894,  921,  922,\n",
       "         975, 1031, 1047, 1115, 1129, 1170, 1378, 1600]),\n",
       " array([869,   2,   1,   1,   7,   2,   1,   1,   1,   1,   2,   1,   1,\n",
       "          1,   1,   1,   4,   1,   3,   3,   2,   1,   1,   3,   1,   1,\n",
       "          2,   1,   1,   2,   1,   1,   1,   2,   1,   2,   3,   8,   3,\n",
       "          2,   4,   6,   1,   3,   5,   3,   1,   1,   1,   3,   2,   2,\n",
       "          2,   1,   1,   2,   3,   4,   2,   1,   3,   2,   6,   8,   1,\n",
       "          3,   2,   2,   1,   1,   3,   2,   1,   7,   1,   1,   2,   1,\n",
       "          1,   3,   3,   5,   2,   3,   1,   1,   2,   1,   2,   2,   3,\n",
       "          1,   2,   3,   2,   1,   1,   2,   1,   1,   2,   2,   4,   1,\n",
       "          2,   1,   2,   1,   3,   1,   4,   3,   5,   2,   2,   3,   1,\n",
       "          3,   4,   8,   2,   4,   2,   3,   1,   2,   2,   1,   4,   6,\n",
       "          1,   2,   1,   2,   2,   1,   3,   1,   4,   2,   2,   4,   1,\n",
       "          1,   4,   1,   1,   1,   3,   1,   1,   2,   2,   1,   2,   1,\n",
       "          2,   3,   2,   1,   2,   4,   1,   1,   2,   4,   1,   1,   3,\n",
       "          1,   1,   2,   1,   1,   1,   2,   4,   4,   3,   1,   1,   1,\n",
       "          1,   2,   2,   2,   1,   1,   4,   2,   1,   1,   1,   1,   1,\n",
       "          1,   1,   2,   1,   4,   2,   2,   2,   2,   1,   1,   3,   1,\n",
       "          2,   5,   1,   2,   1,   2,   4,   1,   2,   6,   1,   2,   1,\n",
       "          3,   2,   1,   5,   1,   2,   1,   1,   1,   1,   1,   1,   1,\n",
       "          1,   1,   1,   1,   1,   1,   1,   1,   1,   1,   1,   3,   2,\n",
       "          2,   2,   1,   1,   1,   1,   1,   1,   2,   1,   1,   1,   1,\n",
       "          1,   4,   1,   1,   1,   1,   2,   1,   1,   2,   1,   1,   1,\n",
       "          1,   1,   2,   1,   1,   1,   1,   1,   1,   1,   1,   1,   1,\n",
       "          1,   1,   1,   1,   1,   1,   1,   1,   1,   1,   1,   2,   1,\n",
       "          1,   2,   1,   1,   1,   1,   1,   1,   1,   1,   1,   1,   1,\n",
       "          1,   1,   1,   1,   1,   1,   1,   1,   1,   1,   1,   1,   1,\n",
       "          1,   1]))"
      ]
     },
     "execution_count": 37,
     "metadata": {},
     "output_type": "execute_result"
    }
   ],
   "source": [
    "np.unique(df['MasVnrArea'],return_counts = True)"
   ]
  },
  {
   "cell_type": "code",
   "execution_count": 38,
   "id": "great-guide",
   "metadata": {},
   "outputs": [
    {
     "data": {
      "text/plain": [
       "(array(['Ex', 'Fa', 'Gd', 'TA'], dtype=object), array([ 52,  14, 488, 906]))"
      ]
     },
     "execution_count": 38,
     "metadata": {},
     "output_type": "execute_result"
    }
   ],
   "source": [
    "np.unique(df['ExterQual'],return_counts = True)"
   ]
  },
  {
   "cell_type": "code",
   "execution_count": 39,
   "id": "seasonal-acceptance",
   "metadata": {},
   "outputs": [
    {
     "data": {
      "text/plain": [
       "(array(['Ex', 'Fa', 'Gd', 'Po', 'TA'], dtype=object),\n",
       " array([   3,   28,  146,    1, 1282]))"
      ]
     },
     "execution_count": 39,
     "metadata": {},
     "output_type": "execute_result"
    }
   ],
   "source": [
    "np.unique(df['ExterCond'],return_counts = True)"
   ]
  },
  {
   "cell_type": "code",
   "execution_count": 40,
   "id": "young-school",
   "metadata": {},
   "outputs": [
    {
     "data": {
      "text/plain": [
       "(array(['BrkTil', 'CBlock', 'PConc', 'Slab', 'Stone', 'Wood'], dtype=object),\n",
       " array([146, 634, 647,  24,   6,   3]))"
      ]
     },
     "execution_count": 40,
     "metadata": {},
     "output_type": "execute_result"
    }
   ],
   "source": [
    "np.unique(df['Foundation'],return_counts = True)"
   ]
  },
  {
   "cell_type": "code",
   "execution_count": 41,
   "id": "ceramic-polyester",
   "metadata": {},
   "outputs": [
    {
     "data": {
      "text/plain": [
       "(array(['0', 'Ex', 'Fa', 'Gd', 'TA'], dtype=object),\n",
       " array([ 37, 121,  35, 618, 649]))"
      ]
     },
     "execution_count": 41,
     "metadata": {},
     "output_type": "execute_result"
    }
   ],
   "source": [
    "np.unique(df['BsmtQual'],return_counts = True)"
   ]
  },
  {
   "cell_type": "code",
   "execution_count": 42,
   "id": "driving-reflection",
   "metadata": {},
   "outputs": [
    {
     "data": {
      "text/plain": [
       "(array(['0', 'Fa', 'Gd', 'Po', 'TA'], dtype=object),\n",
       " array([  37,   45,   65,    2, 1311]))"
      ]
     },
     "execution_count": 42,
     "metadata": {},
     "output_type": "execute_result"
    }
   ],
   "source": [
    "np.unique(df['BsmtCond'],return_counts = True)"
   ]
  },
  {
   "cell_type": "code",
   "execution_count": 43,
   "id": "surprised-municipality",
   "metadata": {},
   "outputs": [
    {
     "data": {
      "text/plain": [
       "(array(['0', 'Av', 'Gd', 'Mn', 'No'], dtype=object),\n",
       " array([ 38, 221, 134, 114, 953]))"
      ]
     },
     "execution_count": 43,
     "metadata": {},
     "output_type": "execute_result"
    }
   ],
   "source": [
    "np.unique(df['BsmtExposure'],return_counts = True)"
   ]
  },
  {
   "cell_type": "code",
   "execution_count": 44,
   "id": "widespread-somerset",
   "metadata": {},
   "outputs": [
    {
     "data": {
      "text/plain": [
       "(array(['0', 'ALQ', 'BLQ', 'GLQ', 'LwQ', 'Rec', 'Unf'], dtype=object),\n",
       " array([ 37, 220, 148, 418,  74, 133, 430]))"
      ]
     },
     "execution_count": 44,
     "metadata": {},
     "output_type": "execute_result"
    }
   ],
   "source": [
    "np.unique(df['BsmtFinType1'],return_counts = True)"
   ]
  },
  {
   "cell_type": "code",
   "execution_count": 45,
   "id": "encouraging-tours",
   "metadata": {},
   "outputs": [
    {
     "data": {
      "text/plain": [
       "(array([   0,    2,   16,   20,   24,   25,   27,   28,   33,   35,   36,\n",
       "          40,   41,   48,   49,   50,   56,   57,   63,   64,   72,   75,\n",
       "          80,   81,   94,  104,  108,  111,  116,  120,  125,  129,  131,\n",
       "         133,  138,  141,  144,  150,  152,  156,  162,  165,  167,  168,\n",
       "         170,  176,  179,  180,  182,  185,  187,  188,  189,  191,  192,\n",
       "         193,  194,  196,  197,  203,  204,  206,  209,  210,  212,  213,\n",
       "         216,  218,  219,  220,  222,  223,  224,  226,  228,  231,  234,\n",
       "         236,  239,  240,  241,  247,  248,  249,  250,  251,  252,  256,\n",
       "         257,  259,  262,  264,  266,  270,  273,  275,  280,  281,  282,\n",
       "         284,  285,  288,  290,  292,  294,  296,  297,  298,  299,  300,\n",
       "         301,  306,  308,  309,  310,  311,  312,  315,  317,  319,  320,\n",
       "         321,  322,  324,  326,  328,  329,  330,  331,  334,  336,  338,\n",
       "         340,  341,  344,  348,  349,  350,  351,  352,  353,  354,  356,\n",
       "         358,  360,  361,  364,  365,  368,  369,  370,  371,  374,  375,\n",
       "         377,  378,  379,  380,  381,  383,  384,  385,  386,  387,  388,\n",
       "         390,  392,  394,  397,  398,  399,  400,  402,  403,  404,  405,\n",
       "         408,  410,  412,  414,  415,  416,  417,  419,  420,  421,  422,\n",
       "         423,  425,  426,  427,  428,  429,  430,  432,  436,  437,  438,\n",
       "         439,  440,  442,  443,  444,  445,  448,  450,  454,  456,  457,\n",
       "         459,  460,  462,  464,  465,  468,  471,  477,  480,  482,  483,\n",
       "         484,  485,  486,  489,  490,  492,  493,  495,  498,  500,  503,\n",
       "         504,  505,  506,  507,  509,  510,  512,  513,  515,  516,  518,\n",
       "         520,  521,  522,  523,  524,  528,  532,  533,  534,  535,  536,\n",
       "         538,  539,  540,  543,  544,  546,  547,  548,  549,  550,  551,\n",
       "         552,  553,  554,  556,  559,  560,  562,  564,  565,  566,  567,\n",
       "         568,  569,  570,  572,  573,  575,  578,  580,  584,  585,  586,\n",
       "         588,  592,  593,  594,  595,  599,  600,  602,  603,  604,  605,\n",
       "         607,  608,  609,  611,  612,  614,  616,  617,  619,  620,  622,\n",
       "         623,  624,  625,  626,  630,  631,  632,  633,  637,  639,  641,\n",
       "         642,  643,  644,  645,  646,  648,  649,  650,  651,  655,  656,\n",
       "         658,  659,  660,  661,  662,  663,  664,  666,  668,  672,  673,\n",
       "         674,  678,  679,  680,  684,  685,  686,  689,  690,  692,  694,\n",
       "         695,  696,  697,  698,  699,  700,  702,  704,  705,  706,  708,\n",
       "         712,  713,  714,  716,  719,  720,  724,  728,  731,  732,  733,\n",
       "         734,  735,  737,  738,  739,  740,  742,  746,  747,  748,  750,\n",
       "         751,  756,  759,  762,  763,  765,  767,  769,  772,  773,  774,\n",
       "         775,  776,  777,  778,  781,  783,  784,  786,  787,  788,  789,\n",
       "         790,  795,  803,  804,  806,  808,  810,  812,  814,  816,  819,\n",
       "         821,  822,  824,  827,  828,  830,  831,  832,  833,  836,  837,\n",
       "         840,  841,  842,  846,  851,  852,  854,  859,  860,  862,  863,\n",
       "         865,  866,  867,  871,  874,  883,  885,  892,  894,  895,  896,\n",
       "         897,  899,  900,  902,  903,  904,  905,  906,  912,  915,  916,\n",
       "         919,  920,  922,  925,  929,  932,  936,  938,  941,  943,  945,\n",
       "         946,  956,  958,  965,  967,  969,  970,  975,  976,  978,  980,\n",
       "         982,  984,  985,  986,  987,  988,  990,  991,  994,  998, 1000,\n",
       "        1002, 1003, 1004, 1005, 1012, 1013, 1014, 1016, 1018, 1022, 1024,\n",
       "        1032, 1036, 1039, 1040, 1046, 1053, 1056, 1059, 1064, 1065, 1070,\n",
       "        1071, 1074, 1078, 1079, 1082, 1084, 1085, 1086, 1088, 1097, 1104,\n",
       "        1106, 1110, 1116, 1121, 1124, 1126, 1128, 1138, 1148, 1150, 1153,\n",
       "        1154, 1157, 1158, 1159, 1162, 1163, 1165, 1170, 1172, 1173, 1180,\n",
       "        1186, 1196, 1198, 1200, 1201, 1213, 1216, 1218, 1219, 1220, 1231,\n",
       "        1234, 1236, 1237, 1238, 1246, 1247, 1249, 1258, 1260, 1261, 1270,\n",
       "        1274, 1277, 1280, 1282, 1283, 1285, 1288, 1300, 1302, 1309, 1314,\n",
       "        1320, 1324, 1330, 1332, 1334, 1336, 1338, 1350, 1351, 1358, 1361,\n",
       "        1369, 1373, 1386, 1387, 1390, 1398, 1400, 1406, 1410, 1416, 1422,\n",
       "        1436, 1440, 1441, 1443, 1445, 1447, 1455, 1456, 1460, 1464, 1470,\n",
       "        1480, 1513, 1518, 1540, 1567, 1572, 1573, 1606, 1619, 1636, 1646,\n",
       "        1696, 1721, 1767, 1810, 1880, 1904, 2096, 2188, 2260, 5644]),\n",
       " array([467,   1,   9,   5,  12,   1,   1,   3,   1,   1,   1,   1,   1,\n",
       "          2,   1,   2,   2,   2,   1,   1,   1,   1,   1,   1,   1,   2,\n",
       "          1,   2,   2,   3,   1,   1,   1,   1,   1,   1,   2,   1,   2,\n",
       "          2,   1,   1,   1,   3,   1,   1,   1,   3,   3,   1,   2,   1,\n",
       "          1,   1,   1,   1,   1,   3,   1,   1,   1,   1,   2,   3,   1,\n",
       "          1,   2,   1,   1,   2,   1,   1,   1,   2,   1,   2,   2,   1,\n",
       "          1,   1,   1,   3,   1,   1,   3,   1,   1,   2,   1,   1,   1,\n",
       "          1,   2,   1,   1,   2,   3,   1,   1,   1,   2,   3,   2,   1,\n",
       "          1,   1,   3,   2,   1,   4,   1,   1,   1,   1,   1,   2,   4,\n",
       "          2,   1,   2,   1,   1,   1,   1,   1,   1,   2,   1,   1,   2,\n",
       "          3,   3,   3,   2,   1,   2,   1,   2,   2,   2,   2,   1,   1,\n",
       "          1,   4,   1,   1,   1,   2,   1,   2,   2,   1,   3,   1,   3,\n",
       "          1,   1,   2,   1,   4,   1,   1,   2,   1,   2,   2,   1,   1,\n",
       "          1,   2,   4,   1,   3,   1,   2,   1,   2,   1,   1,   1,   1,\n",
       "          1,   2,   2,   1,   1,   1,   3,   1,   1,   4,   1,   1,   2,\n",
       "          1,   1,   1,   1,   1,   4,   1,   2,   1,   1,   3,   2,   3,\n",
       "          2,   1,   2,   2,   1,   1,   2,   1,   1,   1,   1,   2,   1,\n",
       "          1,   2,   1,   3,   2,   2,   4,   2,   3,   2,   4,   2,   1,\n",
       "          3,   1,   3,   1,   2,   1,   1,   1,   1,   1,   1,   2,   2,\n",
       "          3,   1,   2,   1,   1,   1,   1,   2,   2,   1,   2,   2,   4,\n",
       "          1,   1,   2,   1,   2,   4,   1,   1,   1,   4,   1,   1,   3,\n",
       "          1,   2,   1,   3,   3,   1,   1,   1,   2,   1,   2,   1,   1,\n",
       "          4,   1,   2,   2,   3,   1,   4,   1,   2,   2,   1,   1,   1,\n",
       "          1,   1,   1,   1,   5,   1,   2,   1,   1,   1,   3,   3,   3,\n",
       "          1,   1,   1,   3,   2,   1,   4,   1,   3,   1,   1,   2,   3,\n",
       "          2,   2,   1,   4,   3,   1,   3,   3,   1,   5,   2,   2,   2,\n",
       "          1,   3,   1,   3,   1,   1,   3,   1,   3,   5,   1,   3,   1,\n",
       "          1,   3,   1,   4,   1,   1,   3,   1,   1,   1,   2,   1,   2,\n",
       "          1,   1,   2,   2,   1,   2,   2,   1,   3,   3,   1,   2,   1,\n",
       "          2,   2,   2,   1,   1,   2,   1,   1,   1,   1,   1,   1,   2,\n",
       "          2,   3,   1,   1,   1,   1,   1,   1,   2,   1,   1,   1,   2,\n",
       "          3,   1,   2,   3,   2,   1,   1,   1,   1,   1,   1,   3,   2,\n",
       "          3,   1,   2,   2,   1,   1,   3,   1,   2,   1,   1,   2,   1,\n",
       "          1,   2,   1,   1,   1,   1,   1,   1,   1,   1,   1,   1,   2,\n",
       "          1,   1,   1,   1,   1,   1,   1,   1,   1,   1,   1,   1,   2,\n",
       "          1,   3,   1,   1,   1,   1,   1,   1,   1,   2,   1,   2,   2,\n",
       "          5,   1,   1,   1,   2,   1,   2,   1,   1,   1,   1,   1,   2,\n",
       "          1,   1,   2,   1,   1,   1,   2,   1,   2,   1,   1,   1,   2,\n",
       "          2,   1,   1,   1,   2,   1,   1,   1,   2,   1,   1,   2,   1,\n",
       "          3,   2,   2,   1,   1,   3,   2,   1,   2,   1,   1,   1,   1,\n",
       "          1,   1,   2,   1,   1,   2,   1,   1,   1,   1,   2,   1,   1,\n",
       "          1,   1,   1,   2,   1,   2,   1,   1,   1,   2,   1,   1,   1,\n",
       "          1,   1,   1,   1,   1,   1,   1,   4,   3,   1,   1,   3,   2,\n",
       "          1,   1,   1,   1,   1,   1,   1,   1,   2,   2,   1,   1,   1,\n",
       "          3,   1,   1,   1,   1,   1,   2,   3,   1,   2,   1,   1,   1,\n",
       "          1,   1,   1,   1,   1,   1,   1,   1,   1,   1,   1,   1,   1,\n",
       "          1,   1,   2,   1,   2,   1,   1,   1,   1,   1,   1,   1,   1,\n",
       "          1,   1,   1,   1,   1,   1,   1,   1,   1,   2,   1,   1,   1,\n",
       "          1,   1,   1,   1,   1,   1,   1,   1,   1,   1,   1,   1,   1]))"
      ]
     },
     "execution_count": 45,
     "metadata": {},
     "output_type": "execute_result"
    }
   ],
   "source": [
    "np.unique(df['BsmtFinSF1'],return_counts = True)"
   ]
  },
  {
   "cell_type": "code",
   "execution_count": 46,
   "id": "plastic-aside",
   "metadata": {},
   "outputs": [
    {
     "data": {
      "text/plain": [
       "(array(['0', 'ALQ', 'BLQ', 'GLQ', 'LwQ', 'Rec', 'Unf'], dtype=object),\n",
       " array([  38,   19,   33,   14,   46,   54, 1256]))"
      ]
     },
     "execution_count": 46,
     "metadata": {},
     "output_type": "execute_result"
    }
   ],
   "source": [
    "np.unique(df['BsmtFinType2'],return_counts = True)"
   ]
  },
  {
   "cell_type": "code",
   "execution_count": 47,
   "id": "dried-devil",
   "metadata": {},
   "outputs": [
    {
     "data": {
      "text/plain": [
       "(array([   0,   28,   32,   35,   40,   41,   64,   68,   80,   81,   93,\n",
       "          96,  105,  106,  108,  110,  117,  119,  121,  123,  125,  127,\n",
       "         128,  132,  139,  144,  147,  149,  150,  163,  165,  168,  169,\n",
       "         173,  174,  175,  177,  180,  181,  182,  184,  193,  202,  208,\n",
       "         210,  211,  215,  219,  228,  230,  232,  239,  240,  258,  264,\n",
       "         273,  276,  279,  287,  290,  294,  306,  311,  324,  334,  336,\n",
       "         344,  345,  352,  354,  362,  374,  375,  377,  380,  391,  396,\n",
       "         400,  411,  420,  435,  438,  441,  465,  466,  468,  469,  472,\n",
       "         479,  480,  486,  491,  492,  495,  499,  500,  506,  531,  532,\n",
       "         539,  544,  546,  547,  551,  557,  580,  600,  606,  608,  612,\n",
       "         620,  627,  630,  634,  645,  661,  668,  670,  682,  690,  692,\n",
       "         712,  713,  723,  764,  768,  791,  820,  823,  841,  869,  872,\n",
       "         906,  972, 1029, 1031, 1057, 1061, 1063, 1080, 1085, 1120, 1127,\n",
       "        1474]),\n",
       " array([1293,    1,    1,    1,    1,    2,    2,    1,    1,    1,    2,\n",
       "           2,    1,    1,    1,    1,    2,    1,    1,    1,    1,    1,\n",
       "           1,    1,    1,    1,    2,    1,    1,    1,    1,    1,    1,\n",
       "           1,    1,    1,    1,    5,    1,    2,    1,    1,    1,    1,\n",
       "           1,    1,    1,    1,    1,    1,    1,    1,    1,    1,    1,\n",
       "           1,    1,    2,    2,    2,    2,    1,    1,    1,    1,    1,\n",
       "           1,    1,    1,    1,    1,    3,    1,    1,    1,    2,    1,\n",
       "           1,    1,    1,    1,    1,    1,    1,    1,    2,    2,    1,\n",
       "           1,    2,    1,    1,    1,    1,    1,    1,    1,    1,    1,\n",
       "           2,    1,    1,    1,    2,    1,    1,    1,    1,    1,    1,\n",
       "           1,    1,    1,    1,    1,    1,    1,    1,    1,    1,    1,\n",
       "           2,    1,    1,    1,    1,    1,    1,    1,    1,    1,    1,\n",
       "           1,    1,    1,    1,    1,    1,    1,    1,    1,    1,    1,\n",
       "           1]))"
      ]
     },
     "execution_count": 47,
     "metadata": {},
     "output_type": "execute_result"
    }
   ],
   "source": [
    "np.unique(df['BsmtFinSF2'],return_counts = True)"
   ]
  },
  {
   "cell_type": "code",
   "execution_count": 48,
   "id": "three-detroit",
   "metadata": {},
   "outputs": [
    {
     "data": {
      "text/plain": [
       "(array([   0,   14,   15,   23,   26,   29,   30,   32,   35,   36,   38,\n",
       "          39,   40,   50,   55,   60,   61,   64,   70,   72,   74,   75,\n",
       "          76,   77,   78,   80,   81,   82,   83,   84,   88,   89,   90,\n",
       "          92,   93,   95,   96,   99,  100,  102,  103,  104,  105,  107,\n",
       "         108,  110,  111,  112,  113,  114,  115,  117,  119,  120,  121,\n",
       "         122,  124,  125,  126,  130,  131,  132,  133,  134,  135,  136,\n",
       "         138,  140,  141,  142,  143,  148,  149,  150,  151,  153,  154,\n",
       "         155,  156,  160,  161,  162,  163,  165,  166,  167,  168,  169,\n",
       "         170,  171,  172,  173,  174,  175,  176,  177,  178,  179,  180,\n",
       "         184,  186,  187,  188,  189,  190,  191,  192,  193,  195,  196,\n",
       "         197,  198,  200,  201,  203,  204,  207,  208,  210,  212,  216,\n",
       "         217,  218,  219,  220,  221,  223,  224,  225,  227,  229,  230,\n",
       "         234,  235,  237,  238,  239,  240,  241,  242,  244,  245,  246,\n",
       "         247,  248,  250,  251,  252,  253,  254,  255,  256,  257,  261,\n",
       "         262,  264,  266,  268,  270,  273,  274,  276,  277,  278,  279,\n",
       "         280,  281,  284,  285,  286,  288,  289,  290,  291,  292,  293,\n",
       "         294,  295,  297,  298,  299,  300,  301,  303,  304,  305,  308,\n",
       "         309,  310,  311,  312,  314,  315,  316,  317,  318,  319,  320,\n",
       "         321,  322,  323,  324,  326,  328,  331,  333,  334,  336,  338,\n",
       "         340,  341,  342,  343,  344,  348,  349,  350,  352,  354,  355,\n",
       "         356,  357,  359,  360,  361,  363,  364,  365,  366,  367,  370,\n",
       "         371,  372,  374,  375,  378,  379,  380,  381,  383,  384,  386,\n",
       "         387,  389,  390,  392,  396,  397,  398,  399,  400,  402,  403,\n",
       "         404,  405,  406,  408,  409,  410,  411,  412,  413,  414,  415,\n",
       "         416,  417,  418,  420,  422,  424,  425,  426,  427,  428,  429,\n",
       "         430,  431,  432,  434,  435,  438,  440,  441,  442,  444,  445,\n",
       "         447,  448,  449,  450,  452,  456,  457,  458,  459,  460,  461,\n",
       "         462,  463,  464,  465,  466,  467,  468,  470,  473,  474,  476,\n",
       "         479,  480,  481,  482,  483,  484,  485,  486,  487,  488,  490,\n",
       "         491,  495,  496,  499,  500,  501,  503,  504,  506,  508,  510,\n",
       "         512,  515,  516,  519,  520,  522,  524,  525,  526,  528,  530,\n",
       "         533,  536,  537,  538,  539,  540,  542,  543,  544,  545,  546,\n",
       "         548,  549,  550,  551,  552,  554,  556,  557,  560,  563,  564,\n",
       "         567,  568,  570,  571,  572,  574,  576,  577,  578,  580,  585,\n",
       "         586,  588,  589,  594,  595,  596,  598,  599,  600,  602,  604,\n",
       "         605,  606,  611,  612,  616,  619,  620,  622,  624,  625,  626,\n",
       "         628,  630,  635,  636,  637,  638,  640,  641,  645,  648,  649,\n",
       "         650,  651,  652,  656,  658,  660,  661,  662,  664,  666,  668,\n",
       "         671,  672,  673,  676,  678,  680,  684,  686,  689,  690,  691,\n",
       "         692,  693,  697,  698,  700,  701,  702,  705,  706,  707,  708,\n",
       "         709,  710,  712,  715,  717,  718,  720,  721,  722,  724,  725,\n",
       "         726,  728,  730,  731,  732,  733,  734,  735,  736,  739,  740,\n",
       "         741,  742,  744,  746,  747,  748,  750,  752,  755,  756,  758,\n",
       "         761,  762,  764,  765,  768,  769,  770,  772,  773,  774,  776,\n",
       "         777,  778,  779,  780,  783,  784,  785,  788,  791,  792,  793,\n",
       "         794,  795,  796,  797,  798,  799,  801,  803,  804,  806,  808,\n",
       "         810,  811,  812,  813,  814,  815,  816,  818,  823,  831,  832,\n",
       "         833,  834,  840,  841,  844,  846,  847,  849,  858,  859,  860,\n",
       "         861,  862,  864,  866,  868,  871,  874,  876,  877,  878,  879,\n",
       "         880,  882,  884,  891,  892,  893,  894,  896,  899,  901,  905,\n",
       "         906,  907,  912,  914,  916,  918,  920,  924,  925,  926,  927,\n",
       "         930,  932,  935,  936,  939,  940,  941,  948,  952,  953,  958,\n",
       "         960,  961,  964,  967,  968,  969,  970,  971,  972,  975,  976,\n",
       "         977,  978,  982,  983,  988,  989,  993,  994,  995,  999, 1005,\n",
       "        1007, 1008, 1010, 1012, 1013, 1017, 1020, 1026, 1030, 1032, 1035,\n",
       "        1042, 1043, 1045, 1048, 1050, 1053, 1055, 1063, 1064, 1065, 1072,\n",
       "        1073, 1074, 1078, 1079, 1082, 1085, 1088, 1090, 1092, 1094, 1095,\n",
       "        1097, 1098, 1099, 1104, 1107, 1116, 1117, 1120, 1121, 1122, 1125,\n",
       "        1128, 1129, 1139, 1140, 1141, 1143, 1145, 1152, 1158, 1163, 1164,\n",
       "        1176, 1181, 1184, 1191, 1194, 1195, 1198, 1200, 1203, 1212, 1217,\n",
       "        1221, 1226, 1228, 1232, 1234, 1237, 1240, 1249, 1252, 1257, 1258,\n",
       "        1264, 1266, 1273, 1276, 1284, 1286, 1288, 1290, 1293, 1296, 1302,\n",
       "        1304, 1307, 1316, 1319, 1330, 1335, 1342, 1346, 1349, 1351, 1352,\n",
       "        1357, 1362, 1367, 1368, 1372, 1373, 1374, 1375, 1380, 1390, 1392,\n",
       "        1393, 1405, 1406, 1410, 1413, 1417, 1420, 1422, 1424, 1428, 1434,\n",
       "        1436, 1442, 1450, 1459, 1468, 1470, 1480, 1482, 1489, 1494, 1496,\n",
       "        1497, 1498, 1502, 1515, 1528, 1530, 1541, 1550, 1560, 1566, 1571,\n",
       "        1573, 1580, 1584, 1588, 1594, 1603, 1616, 1622, 1626, 1630, 1632,\n",
       "        1638, 1649, 1652, 1656, 1670, 1680, 1686, 1689, 1694, 1709, 1710,\n",
       "        1734, 1752, 1753, 1768, 1774, 1777, 1795, 1800, 1836, 1869, 1905,\n",
       "        1907, 1926, 1935, 1969, 2002, 2042, 2046, 2121, 2153, 2336]),\n",
       " array([118,   1,   1,   2,   1,   1,   1,   2,   1,   4,   1,   1,   1,\n",
       "          1,   2,   1,   1,   2,   2,   1,   1,   3,   2,   2,   2,   5,\n",
       "          1,   1,   1,   2,   4,   1,   3,   4,   1,   1,   2,   2,   4,\n",
       "          2,   2,   1,   3,   1,   5,   1,   1,   2,   1,   3,   4,   1,\n",
       "          1,   1,   3,   2,   2,   4,   2,   3,   1,   3,   3,   2,   3,\n",
       "          1,   2,   3,   2,   1,   1,   3,   1,   1,   2,   2,   1,   1,\n",
       "          1,   2,   2,   5,   4,   1,   1,   2,   4,   2,   1,   1,   2,\n",
       "          3,   2,   3,   2,   1,   1,   2,   3,   3,   4,   1,   2,   2,\n",
       "          2,   1,   4,   2,   2,   1,   2,   1,   2,   1,   3,   1,   1,\n",
       "          3,   3,   2,   5,   1,   2,   1,   1,   1,   2,   2,   2,   1,\n",
       "          1,   3,   2,   1,   1,   1,   1,   1,   1,   1,   3,   3,   1,\n",
       "          2,   3,   1,   1,   3,   2,   2,   1,   2,   1,   1,   1,   5,\n",
       "          1,   2,   6,   1,   1,   4,   1,   3,   2,   6,   2,   4,   1,\n",
       "          2,   3,   2,   1,   2,   3,   1,   2,   1,   1,   1,   2,   7,\n",
       "          1,   1,   2,   1,   1,   1,   3,   1,   4,   1,   1,   3,   3,\n",
       "          3,   5,   2,   2,   2,   1,   4,   5,   1,   1,   2,   1,   4,\n",
       "          1,   4,   1,   3,   3,   2,   1,   1,   4,   1,   3,   1,   3,\n",
       "          2,   1,   4,   1,   2,   2,   1,   1,   1,   1,   2,   2,   2,\n",
       "          1,   3,   1,   3,   2,   1,   8,   1,   1,   1,   5,   4,   4,\n",
       "          1,   1,   2,   2,   3,   1,   2,   1,   2,   3,   2,   5,   2,\n",
       "          1,   3,   2,   1,   2,   1,   1,   4,   2,   2,   2,   3,   1,\n",
       "          1,   2,   1,   2,   2,   3,   1,   1,   6,   3,   1,   1,   1,\n",
       "          1,   3,   1,   1,   1,   1,   2,   1,   2,   3,   2,   1,   1,\n",
       "          1,   1,   2,   1,   2,   2,   1,   3,   1,   1,   1,   1,   1,\n",
       "          1,   3,   2,   2,   1,   1,   5,   1,   2,   1,   2,   1,   2,\n",
       "          1,   3,   3,   1,   2,   1,   1,   2,   1,   2,   3,   2,   2,\n",
       "          1,   2,   1,   2,   4,   1,   1,   1,   3,   1,   1,   4,   1,\n",
       "          3,   1,   1,   1,   1,   1,   3,   4,   1,   1,   1,   1,   2,\n",
       "          1,   3,   1,   7,   1,   2,   1,   1,   1,   1,   2,   3,   1,\n",
       "          3,   2,   3,   3,   2,   7,   3,   2,   1,   1,   4,   3,   1,\n",
       "          1,   1,   2,   2,   6,   2,   3,   3,   1,   1,   1,   4,   1,\n",
       "          2,   1,   1,   1,   2,   1,   2,   1,   2,   4,   2,   2,   2,\n",
       "          1,   1,   1,   6,   2,   2,   2,   1,   4,   3,   2,   1,   1,\n",
       "          1,   1,   3,   5,   3,   1,   3,   1,   2,   1,   1,   1,   3,\n",
       "          3,   1,   1,   2,   2,   1,   1,   1,   1,   1,   9,   1,   1,\n",
       "          3,   1,   1,   1,   2,   1,   1,   1,   3,   1,   2,   4,   2,\n",
       "          1,   1,   2,   3,   1,   1,   2,   2,   1,   4,   1,   1,   1,\n",
       "          1,   1,   2,   1,   1,   1,   4,   2,   1,   2,   1,   1,   1,\n",
       "          2,   1,   1,   2,   1,   2,   1,   1,   1,   1,   2,   3,   1,\n",
       "          3,   1,   2,   1,   1,   5,   1,   1,   1,   3,   2,   1,   4,\n",
       "          1,   2,   2,   4,   2,   1,   1,   1,   1,   1,   3,   1,   2,\n",
       "          1,   1,   2,   1,   2,   1,   2,   1,   4,   1,   1,   1,   3,\n",
       "          3,   1,   3,   1,   1,   1,   4,   1,   2,   1,   1,   2,   1,\n",
       "          1,   2,   1,   1,   2,   3,   2,   1,   1,   1,   3,   2,   1,\n",
       "          2,   1,   1,   1,   1,   1,   3,   1,   1,   2,   1,   1,   1,\n",
       "          1,   1,   1,   1,   1,   2,   1,   1,   1,   1,   3,   1,   1,\n",
       "          1,   1,   1,   1,   1,   1,   1,   1,   1,   1,   1,   1,   1,\n",
       "          2,   1,   2,   1,   1,   1,   1,   1,   1,   1,   1,   1,   1,\n",
       "          1,   1,   2,   1,   1,   1,   1,   1,   1,   1,   1,   1,   1,\n",
       "          1,   1,   1,   2,   2,   2,   1,   1,   1,   1,   1,   1,   1,\n",
       "          1,   1,   1,   1,   1,   1,   1,   1,   1,   1,   1,   1,   1,\n",
       "          2,   2,   2,   2,   1,   1,   1,   2,   1,   1,   1,   2,   1,\n",
       "          2,   2,   2,   1,   1,   1,   1,   1,   2,   1,   2,   1,   2,\n",
       "          2,   1,   1,   1,   1,   2,   1,   2,   1,   1,   1,   2,   1,\n",
       "          1,   1,   1,   1,   1,   1,   1,   1,   1,   1,   2,   1,   1,\n",
       "          1,   1,   1,   1,   2,   1,   1,   1,   2,   1,   2,   1,   2,\n",
       "          1,   1,   1,   2,   1,   1,   2,   1,   1,   1,   2,   2,   1,\n",
       "          1,   1,   1,   1,   1,   1,   2,   1,   1,   1,   2,   1,   1,\n",
       "          1,   1,   2,   1,   1,   1,   1,   2,   1,   1,   1,   1,   2,\n",
       "          1,   1,   1,   1,   1,   1,   1,   1,   1,   1,   1,   1,   1]))"
      ]
     },
     "execution_count": 48,
     "metadata": {},
     "output_type": "execute_result"
    }
   ],
   "source": [
    "np.unique(df['BsmtUnfSF'],return_counts = True)"
   ]
  },
  {
   "cell_type": "code",
   "execution_count": 49,
   "id": "grateful-coordinator",
   "metadata": {},
   "outputs": [
    {
     "data": {
      "text/plain": [
       "(array([   0,  105,  190,  264,  270,  290,  319,  360,  372,  384,  408,\n",
       "         420,  440,  458,  462,  480,  482,  483,  485,  504,  506,  520,\n",
       "         525,  528,  530,  533,  536,  539,  540,  544,  546,  547,  551,\n",
       "         559,  560,  561,  570,  572,  576,  585,  588,  596,  600,  602,\n",
       "         608,  611,  612,  616,  617,  622,  624,  625,  626,  630,  636,\n",
       "         637,  641,  644,  648,  649,  650,  651,  654,  655,  656,  658,\n",
       "         660,  661,  662,  663,  672,  673,  676,  680,  683,  684,  686,\n",
       "         689,  690,  691,  693,  696,  697,  698,  700,  702,  704,  707,\n",
       "         708,  709,  710,  712,  713,  714,  715,  716,  718,  720,  721,\n",
       "         723,  725,  727,  728,  729,  731,  732,  735,  736,  738,  740,\n",
       "         741,  742,  744,  746,  747,  750,  755,  756,  757,  761,  764,\n",
       "         765,  768,  770,  771,  773,  774,  776,  777,  778,  780,  783,\n",
       "         784,  788,  789,  791,  792,  793,  794,  795,  796,  798,  799,\n",
       "         800,  802,  803,  804,  806,  807,  808,  810,  811,  813,  814,\n",
       "         815,  816,  817,  818,  819,  822,  824,  825,  828,  831,  832,\n",
       "         833,  836,  839,  840,  841,  844,  845,  846,  847,  848,  849,\n",
       "         853,  854,  855,  856,  858,  859,  860,  861,  862,  864,  866,\n",
       "         868,  870,  872,  873,  874,  876,  879,  880,  882,  883,  884,\n",
       "         888,  892,  893,  894,  896,  900,  901,  907,  908,  910,  911,\n",
       "         912,  913,  915,  916,  918,  920,  923,  924,  925,  926,  927,\n",
       "         928,  930,  931,  932,  935,  936,  938,  939,  940,  941,  942,\n",
       "         943,  944,  945,  948,  950,  951,  952,  953,  954,  955,  956,\n",
       "         958,  959,  960,  961,  963,  964,  965,  967,  968,  969,  970,\n",
       "         971,  972,  973,  974,  975,  976,  978,  979,  980,  981,  982,\n",
       "         983,  984,  985,  988,  990,  991,  992,  993,  994,  996,  998,\n",
       "         999, 1001, 1002, 1003, 1004, 1005, 1006, 1007, 1008, 1010, 1012,\n",
       "        1013, 1017, 1019, 1020, 1021, 1022, 1024, 1026, 1028, 1029, 1030,\n",
       "        1032, 1034, 1039, 1040, 1041, 1042, 1048, 1050, 1051, 1052, 1053,\n",
       "        1054, 1055, 1056, 1057, 1058, 1059, 1060, 1062, 1063, 1064, 1065,\n",
       "        1067, 1069, 1070, 1073, 1074, 1075, 1078, 1079, 1080, 1082, 1084,\n",
       "        1085, 1086, 1088, 1090, 1092, 1094, 1095, 1096, 1097, 1098, 1099,\n",
       "        1100, 1103, 1104, 1105, 1106, 1107, 1108, 1109, 1112, 1113, 1114,\n",
       "        1116, 1117, 1120, 1121, 1122, 1125, 1126, 1127, 1128, 1132, 1134,\n",
       "        1136, 1138, 1140, 1141, 1142, 1143, 1144, 1145, 1148, 1149, 1150,\n",
       "        1151, 1152, 1153, 1154, 1156, 1157, 1158, 1160, 1161, 1162, 1163,\n",
       "        1164, 1165, 1175, 1176, 1181, 1184, 1187, 1188, 1190, 1192, 1193,\n",
       "        1194, 1195, 1196, 1198, 1199, 1200, 1202, 1203, 1204, 1205, 1208,\n",
       "        1210, 1212, 1214, 1215, 1216, 1218, 1219, 1220, 1221, 1223, 1224,\n",
       "        1225, 1226, 1228, 1232, 1234, 1235, 1237, 1240, 1241, 1242, 1244,\n",
       "        1246, 1247, 1248, 1249, 1251, 1252, 1253, 1256, 1257, 1258, 1260,\n",
       "        1261, 1262, 1264, 1266, 1267, 1268, 1269, 1271, 1272, 1273, 1274,\n",
       "        1276, 1277, 1278, 1281, 1284, 1286, 1288, 1291, 1293, 1296, 1297,\n",
       "        1298, 1299, 1300, 1302, 1304, 1306, 1309, 1310, 1311, 1314, 1316,\n",
       "        1318, 1319, 1324, 1328, 1330, 1332, 1337, 1338, 1340, 1344, 1346,\n",
       "        1347, 1349, 1350, 1352, 1356, 1358, 1360, 1361, 1362, 1364, 1367,\n",
       "        1368, 1370, 1372, 1373, 1374, 1375, 1379, 1383, 1385, 1386, 1389,\n",
       "        1390, 1391, 1392, 1393, 1394, 1396, 1398, 1405, 1406, 1408, 1410,\n",
       "        1413, 1414, 1416, 1417, 1419, 1422, 1424, 1425, 1428, 1430, 1431,\n",
       "        1434, 1436, 1437, 1440, 1442, 1444, 1452, 1453, 1454, 1459, 1461,\n",
       "        1462, 1463, 1466, 1468, 1470, 1473, 1475, 1476, 1477, 1478, 1479,\n",
       "        1482, 1484, 1485, 1486, 1488, 1489, 1490, 1494, 1496, 1498, 1499,\n",
       "        1500, 1501, 1502, 1504, 1505, 1510, 1516, 1517, 1518, 1520, 1522,\n",
       "        1525, 1530, 1533, 1536, 1541, 1542, 1552, 1554, 1559, 1560, 1561,\n",
       "        1563, 1565, 1566, 1567, 1568, 1571, 1572, 1573, 1574, 1575, 1580,\n",
       "        1581, 1582, 1584, 1588, 1593, 1594, 1595, 1598, 1600, 1602, 1604,\n",
       "        1606, 1610, 1614, 1616, 1617, 1620, 1622, 1623, 1624, 1626, 1629,\n",
       "        1630, 1632, 1638, 1643, 1649, 1650, 1652, 1654, 1656, 1657, 1660,\n",
       "        1670, 1673, 1680, 1682, 1683, 1684, 1686, 1689, 1694, 1698, 1700,\n",
       "        1702, 1704, 1705, 1709, 1710, 1713, 1719, 1720, 1722, 1726, 1728,\n",
       "        1732, 1734, 1742, 1746, 1752, 1753, 1763, 1766, 1768, 1777, 1792,\n",
       "        1795, 1800, 1809, 1814, 1822, 1833, 1836, 1838, 1842, 1844, 1845,\n",
       "        1848, 1856, 1860, 1868, 1869, 1896, 1902, 1905, 1907, 1922, 1926,\n",
       "        1930, 1932, 1935, 1947, 1952, 1976, 1980, 1986, 1992, 2000, 2002,\n",
       "        2006, 2033, 2035, 2042, 2046, 2076, 2077, 2078, 2109, 2110, 2121,\n",
       "        2136, 2153, 2158, 2216, 2217, 2223, 2330, 2392, 2396, 2444, 2524,\n",
       "        2633, 3094, 3138, 3200, 3206, 6110]),\n",
       " array([37,  1,  1,  3,  1,  1,  1,  1,  1,  7,  1,  1,  3,  1,  1,  1,  1,\n",
       "         7,  1,  1,  1,  3,  1,  2,  1,  1,  1,  1,  2,  1,  4,  3,  1,  1,\n",
       "         3,  1,  1,  2,  2,  2,  4,  2,  7,  1,  1,  1,  3,  4,  1,  1,  2,\n",
       "         2,  1,  9,  1,  2,  1,  1,  2,  2,  3,  1,  1,  1,  1,  1,  4,  1,\n",
       "         1,  1, 17,  1,  1,  2,  1,  5,  5,  4,  1,  3,  1,  1,  2,  4,  2,\n",
       "         3,  1,  1,  1,  1,  1,  1,  1,  1,  3,  2,  1,  7,  1,  2,  2,  1,\n",
       "        12,  3,  2,  3,  4,  1,  1,  2,  1,  3,  2,  1,  4,  2,  2,  9,  1,\n",
       "         1,  4,  2, 12,  2,  1,  2,  1,  2,  2,  1, 11,  3,  4,  3,  1,  1,\n",
       "         1,  5,  2,  2,  6,  3,  2,  2,  1,  2,  4,  3,  1,  2,  2,  1,  2,\n",
       "         2,  1, 13,  1,  1,  1,  1,  2,  2,  1,  1, 10,  3,  1,  1,  7,  1,\n",
       "         1,  3,  1,  4, 11,  1,  1,  1,  4,  3,  6,  1,  2,  3,  1, 35,  3,\n",
       "         2,  1,  1,  1,  2,  6,  1,  4,  3,  1,  6,  1,  1,  1, 11,  5,  2,\n",
       "         3,  3,  1,  4,  1, 15,  1,  2,  3,  3,  2,  1,  4,  3,  2,  1,  5,\n",
       "         1,  1,  1,  2,  8,  2,  2,  3,  2,  1,  2,  2,  1,  3,  2,  1,  9,\n",
       "         2,  1,  1,  1,  2,  1,  5,  1,  1,  1,  1,  1,  1,  2,  5,  1,  2,\n",
       "         1,  1,  3,  2,  3,  1,  4,  1,  1,  1,  1,  1,  2,  5,  2,  5,  1,\n",
       "         3,  2,  1,  1,  1,  1,  1,  3,  1,  1,  1,  7,  3,  2,  2,  2,  1,\n",
       "         1,  1,  1,  2,  4,  2,  4,  1,  3,  1,  1, 14,  2,  1,  1,  4,  2,\n",
       "         2,  3,  2,  2,  8,  4,  1,  1,  1,  1,  3,  4,  3,  1,  2,  1,  3,\n",
       "         1,  1,  4,  1,  4,  2,  1,  1,  3,  3,  2,  5,  2,  3,  2,  2,  1,\n",
       "         2,  1,  1,  3,  1,  1,  2,  1,  1,  1,  2,  2,  1,  3,  3,  2,  2,\n",
       "         1,  2,  3,  3,  1,  2,  2,  1,  2,  2,  2,  2,  5,  3,  1,  1,  1,\n",
       "         1,  3,  1,  1,  2,  1,  3,  1,  1,  1,  1,  3,  2,  1,  2,  2,  2,\n",
       "         1,  4,  1,  1,  1,  1,  1,  3,  1,  2,  3,  1,  1,  2,  1,  4,  1,\n",
       "         2,  3,  1,  3,  1,  1,  2,  1,  1,  1,  1,  1,  2,  2,  2,  1,  3,\n",
       "         3,  1,  1,  1,  1,  1,  3,  2,  1,  2,  1,  2,  1,  3,  1,  1,  2,\n",
       "         2,  1,  1,  3,  1,  1,  1,  1,  1,  2,  1,  1,  1,  2,  1,  1,  1,\n",
       "         1,  1,  1,  1,  1,  1,  2,  2,  2,  1,  1,  1,  4,  2,  1,  1,  2,\n",
       "         1,  1,  1,  2,  2,  1,  1,  2,  1,  1,  2,  1,  1,  2,  2,  1,  6,\n",
       "         2,  1,  2,  2,  3,  2,  1,  1,  1,  2,  1,  2,  1,  1,  2,  6,  1,\n",
       "         1,  1,  1,  2,  1,  1,  1,  1,  1,  1,  1,  1,  2,  1,  1,  1,  1,\n",
       "         1,  1,  2,  2,  5,  2,  1,  1,  3,  1,  1,  2,  2,  1,  3,  2,  3,\n",
       "         1,  1,  1,  1,  3,  1,  3,  2,  1,  1,  1,  2,  1,  4,  2,  2,  1,\n",
       "         1,  2,  2,  1,  1,  1,  1,  2,  2,  1,  1,  1,  2,  1,  1,  2,  1,\n",
       "         1,  1,  1,  1,  1,  1,  1,  2,  1,  2,  1,  2,  3,  1,  1,  3,  1,\n",
       "         1,  2,  2,  1,  1,  1,  1,  1,  2,  2,  1,  1,  1,  2,  1,  1,  1,\n",
       "         1,  2,  3,  1,  1,  1,  2,  1,  1,  2,  1,  1,  2,  2,  1,  1,  1,\n",
       "         2,  2,  1,  1,  3,  1,  2,  2,  1,  1,  1,  1,  1,  2,  1,  1,  1,\n",
       "         1,  1,  5,  1,  3,  1,  1,  1,  2,  1,  1,  1,  1,  1,  1,  3,  1,\n",
       "         1,  1,  1,  1,  1,  1,  3,  1,  1,  1,  1,  1,  1,  1,  1,  1,  1,\n",
       "         1,  1,  2,  1,  1,  1,  1,  1,  1,  1,  1,  1,  1,  1,  1,  1,  1,\n",
       "         1,  1,  1,  1,  1,  1,  1,  2,  1,  1,  1,  1,  1,  1,  1,  1,  1,\n",
       "         1,  1,  1,  1,  1,  1,  1]))"
      ]
     },
     "execution_count": 49,
     "metadata": {},
     "output_type": "execute_result"
    }
   ],
   "source": [
    "np.unique(df['TotalBsmtSF'],return_counts = True)"
   ]
  },
  {
   "cell_type": "code",
   "execution_count": 50,
   "id": "permanent-estonia",
   "metadata": {},
   "outputs": [
    {
     "data": {
      "text/plain": [
       "(array(['Floor', 'GasA', 'GasW', 'Grav', 'OthW', 'Wall'], dtype=object),\n",
       " array([   1, 1428,   18,    7,    2,    4]))"
      ]
     },
     "execution_count": 50,
     "metadata": {},
     "output_type": "execute_result"
    }
   ],
   "source": [
    "np.unique(df['Heating'],return_counts = True)"
   ]
  },
  {
   "cell_type": "code",
   "execution_count": 51,
   "id": "timely-settle",
   "metadata": {},
   "outputs": [
    {
     "data": {
      "text/plain": [
       "(array(['Ex', 'Fa', 'Gd', 'Po', 'TA'], dtype=object),\n",
       " array([741,  49, 241,   1, 428]))"
      ]
     },
     "execution_count": 51,
     "metadata": {},
     "output_type": "execute_result"
    }
   ],
   "source": [
    "np.unique(df['HeatingQC'],return_counts = True)"
   ]
  },
  {
   "cell_type": "code",
   "execution_count": 52,
   "id": "august-affair",
   "metadata": {},
   "outputs": [
    {
     "data": {
      "text/plain": [
       "(array(['N', 'Y'], dtype=object), array([  95, 1365]))"
      ]
     },
     "execution_count": 52,
     "metadata": {},
     "output_type": "execute_result"
    }
   ],
   "source": [
    "np.unique(df['CentralAir'],return_counts = True)"
   ]
  },
  {
   "cell_type": "code",
   "execution_count": 53,
   "id": "offshore-fellowship",
   "metadata": {},
   "outputs": [
    {
     "data": {
      "text/plain": [
       "(array(['0', 'FuseA', 'FuseF', 'FuseP', 'Mix', 'SBrkr'], dtype=object),\n",
       " array([   1,   94,   27,    3,    1, 1334]))"
      ]
     },
     "execution_count": 53,
     "metadata": {},
     "output_type": "execute_result"
    }
   ],
   "source": [
    "np.unique(df['Electrical'],return_counts = True)"
   ]
  },
  {
   "cell_type": "code",
   "execution_count": 54,
   "id": "outer-aberdeen",
   "metadata": {},
   "outputs": [
    {
     "data": {
      "text/plain": [
       "(array([ 334,  372,  438,  480,  483,  495,  520,  525,  526,  536,  546,\n",
       "         551,  561,  572,  575,  576,  581,  596,  600,  605,  612,  616,\n",
       "         624,  625,  626,  630,  649,  658,  660,  661,  663,  664,  672,\n",
       "         673,  676,  679,  680,  682,  684,  686,  689,  691,  693,  694,\n",
       "         696,  697,  698,  702,  703,  707,  708,  713,  716,  720,  725,\n",
       "         728,  729,  734,  735,  736,  738,  741,  742,  747,  750,  751,\n",
       "         752,  753,  754,  755,  756,  757,  760,  764,  765,  767,  768,\n",
       "         769,  770,  772,  773,  774,  778,  779,  780,  783,  784,  786,\n",
       "         788,  789,  790,  792,  793,  794,  796,  798,  799,  800,  802,\n",
       "         803,  804,  806,  807,  808,  810,  811,  812,  813,  814,  815,\n",
       "         816,  818,  820,  822,  824,  825,  827,  829,  831,  832,  833,\n",
       "         835,  838,  840,  841,  842,  845,  846,  847,  848,  849,  851,\n",
       "         854,  855,  856,  858,  859,  860,  861,  864,  865,  866,  869,\n",
       "         872,  874,  875,  876,  877,  879,  880,  882,  884,  885,  886,\n",
       "         887,  888,  889,  892,  893,  894,  896,  897,  899,  900,  901,\n",
       "         902,  904,  905,  907,  908,  909,  910,  912,  913,  914,  915,\n",
       "         916,  918,  920,  923,  924,  925,  926,  927,  928,  929,  930,\n",
       "         932,  933,  935,  936,  938,  939,  941,  943,  944,  948,  949,\n",
       "         950,  951,  952,  953,  954,  955,  956,  958,  959,  960,  961,\n",
       "         962,  963,  964,  965,  966,  968,  969,  970,  971,  972,  974,\n",
       "         975,  976,  977,  979,  980,  981,  983,  984,  985,  986,  988,\n",
       "         989,  990,  991,  992,  993,  996,  997,  998,  999, 1001, 1002,\n",
       "        1003, 1004, 1005, 1006, 1007, 1008, 1010, 1012, 1013, 1014, 1015,\n",
       "        1020, 1021, 1022, 1024, 1026, 1028, 1029, 1032, 1034, 1035, 1036,\n",
       "        1038, 1039, 1040, 1041, 1042, 1044, 1047, 1048, 1050, 1051, 1052,\n",
       "        1053, 1054, 1055, 1056, 1057, 1058, 1060, 1061, 1062, 1063, 1064,\n",
       "        1065, 1067, 1068, 1069, 1071, 1072, 1073, 1074, 1075, 1077, 1078,\n",
       "        1079, 1080, 1082, 1085, 1086, 1088, 1089, 1090, 1091, 1092, 1094,\n",
       "        1095, 1096, 1097, 1098, 1099, 1100, 1103, 1104, 1105, 1107, 1108,\n",
       "        1110, 1112, 1113, 1114, 1116, 1117, 1118, 1120, 1121, 1122, 1124,\n",
       "        1125, 1126, 1127, 1128, 1130, 1131, 1132, 1133, 1134, 1136, 1137,\n",
       "        1138, 1140, 1141, 1142, 1143, 1144, 1145, 1146, 1148, 1149, 1150,\n",
       "        1152, 1153, 1154, 1155, 1156, 1158, 1159, 1160, 1161, 1163, 1164,\n",
       "        1165, 1166, 1167, 1168, 1170, 1172, 1173, 1175, 1178, 1180, 1181,\n",
       "        1182, 1184, 1186, 1187, 1188, 1190, 1192, 1194, 1195, 1196, 1199,\n",
       "        1200, 1203, 1204, 1207, 1208, 1210, 1211, 1212, 1214, 1215, 1216,\n",
       "        1217, 1218, 1220, 1221, 1222, 1223, 1224, 1225, 1226, 1228, 1229,\n",
       "        1232, 1234, 1235, 1236, 1238, 1240, 1241, 1242, 1244, 1246, 1247,\n",
       "        1248, 1249, 1251, 1252, 1253, 1256, 1258, 1260, 1261, 1262, 1264,\n",
       "        1265, 1266, 1268, 1269, 1272, 1274, 1276, 1277, 1279, 1281, 1282,\n",
       "        1283, 1284, 1285, 1287, 1288, 1291, 1294, 1296, 1297, 1298, 1299,\n",
       "        1301, 1302, 1304, 1306, 1307, 1309, 1310, 1314, 1316, 1318, 1319,\n",
       "        1320, 1324, 1325, 1327, 1328, 1332, 1334, 1336, 1337, 1338, 1339,\n",
       "        1340, 1342, 1344, 1349, 1350, 1352, 1357, 1358, 1360, 1361, 1362,\n",
       "        1363, 1364, 1368, 1370, 1372, 1375, 1377, 1378, 1381, 1382, 1383,\n",
       "        1389, 1390, 1391, 1392, 1394, 1402, 1405, 1407, 1411, 1412, 1414,\n",
       "        1416, 1419, 1422, 1423, 1425, 1426, 1428, 1429, 1430, 1431, 1432,\n",
       "        1434, 1436, 1437, 1440, 1442, 1444, 1445, 1453, 1454, 1456, 1459,\n",
       "        1462, 1464, 1465, 1466, 1468, 1470, 1472, 1473, 1476, 1478, 1479,\n",
       "        1482, 1484, 1486, 1489, 1490, 1493, 1494, 1496, 1498, 1500, 1501,\n",
       "        1502, 1504, 1505, 1506, 1507, 1509, 1512, 1516, 1518, 1520, 1521,\n",
       "        1523, 1525, 1526, 1530, 1532, 1533, 1535, 1536, 1537, 1541, 1542,\n",
       "        1547, 1548, 1549, 1552, 1553, 1554, 1555, 1557, 1559, 1560, 1561,\n",
       "        1563, 1566, 1567, 1569, 1571, 1572, 1573, 1574, 1575, 1576, 1578,\n",
       "        1580, 1582, 1584, 1586, 1588, 1593, 1600, 1601, 1602, 1604, 1610,\n",
       "        1614, 1616, 1617, 1619, 1620, 1621, 1622, 1624, 1625, 1629, 1630,\n",
       "        1632, 1634, 1636, 1640, 1644, 1646, 1647, 1651, 1652, 1654, 1656,\n",
       "        1657, 1659, 1660, 1661, 1663, 1664, 1668, 1670, 1675, 1679, 1680,\n",
       "        1682, 1684, 1686, 1687, 1689, 1690, 1694, 1696, 1698, 1699, 1700,\n",
       "        1701, 1702, 1704, 1707, 1709, 1710, 1712, 1713, 1717, 1718, 1719,\n",
       "        1720, 1721, 1724, 1726, 1728, 1733, 1734, 1742, 1746, 1752, 1766,\n",
       "        1768, 1771, 1776, 1779, 1787, 1788, 1792, 1795, 1800, 1801, 1803,\n",
       "        1811, 1824, 1826, 1828, 1831, 1836, 1838, 1839, 1842, 1844, 1848,\n",
       "        1850, 1856, 1867, 1869, 1872, 1888, 1898, 1902, 1905, 1922, 1932,\n",
       "        1940, 1944, 1959, 1966, 1968, 1973, 1976, 1980, 1987, 1992, 2000,\n",
       "        2018, 2020, 2028, 2036, 2042, 2046, 2053, 2069, 2073, 2076, 2084,\n",
       "        2097, 2110, 2113, 2117, 2121, 2129, 2136, 2156, 2158, 2196, 2207,\n",
       "        2217, 2223, 2234, 2259, 2364, 2392, 2402, 2411, 2444, 2515, 2524,\n",
       "        2633, 2898, 3138, 3228, 4692]),\n",
       " array([ 1,  1,  1,  1,  7,  1,  5,  1,  1,  1,  3,  1,  1,  2,  1,  1,  1,\n",
       "         1,  2,  1,  2,  5,  2,  2,  1,  9,  1,  1,  2,  1,  1,  1, 11,  1,\n",
       "         1,  1,  1,  1,  3,  1,  2,  2,  1,  3,  1,  2,  5,  1,  1,  2,  2,\n",
       "         1,  2,  6,  2,  6,  3,  2,  2,  1,  1,  1,  3,  2,  1,  1,  1,  1,\n",
       "         1,  1,  4,  2,  1,  6,  2,  1,  5,  2,  1,  1,  3,  5,  2,  2,  5,\n",
       "         1,  2,  2,  2,  2,  2,  3,  1,  1,  5,  5,  1,  2,  2,  2,  5,  1,\n",
       "         2,  3,  4,  2,  1,  1,  1,  1,  9,  1,  2,  1,  1,  2,  2,  1,  1,\n",
       "         7,  3,  1,  1,  6,  2,  1,  2,  1,  4, 12,  1,  1,  2,  4,  1,  5,\n",
       "         1,  4,  1, 25,  1,  4,  2,  2,  3,  1,  2,  1,  1,  2,  6,  4,  1,\n",
       "         1,  1,  3,  1,  4,  1, 12,  2,  1,  1,  4,  3,  4,  3,  1,  1,  1,\n",
       "         1,  3, 14,  1,  1,  1,  3,  3,  2,  2,  1,  2,  2,  1,  4,  1,  1,\n",
       "         2,  1,  1,  7,  2,  2,  1,  3,  3,  5,  1,  2,  1,  4,  2,  3,  2,\n",
       "         2,  5,  2,  7,  2,  1,  1,  2,  1,  1,  3,  1,  4,  1,  2,  1,  1,\n",
       "         3,  1,  3,  5,  2,  3,  1,  1,  1,  5,  1,  6,  1,  1,  2,  2,  3,\n",
       "         1,  3,  2,  2,  1,  4,  3,  3,  1,  3,  1,  2,  1,  2,  1,  2,  1,\n",
       "         4,  1,  5,  2,  1,  3,  1,  1,  1,  1,  1, 16,  2,  1,  1,  1,  4,\n",
       "         4,  1,  3,  4,  2,  2,  6,  4,  1,  3,  1,  2,  1,  1,  2,  2,  1,\n",
       "         2,  1,  5,  2,  1,  1,  3,  2,  2,  5,  2,  1,  4,  5,  1,  1,  1,\n",
       "         4,  2,  3,  3,  3,  3,  1,  1,  1,  1,  1,  1,  2,  1,  3,  3,  2,\n",
       "         1,  1,  2,  5,  2,  2,  1,  2,  3,  2,  4,  2,  1,  2,  2,  3,  4,\n",
       "         2,  1,  2,  1,  3,  1,  5,  2,  1,  3,  2,  1,  3,  2,  1,  1,  1,\n",
       "         2,  1,  2,  1,  2,  4,  2,  3,  2,  2,  1,  1,  1,  2,  2,  2,  1,\n",
       "         2,  1,  1,  1,  4,  2,  1,  2,  1,  2,  1,  5,  1,  1,  1,  3,  1,\n",
       "         1,  3,  3,  1,  3,  1,  1,  3,  2,  2,  1,  3,  1,  2,  2,  1,  2,\n",
       "         2,  1,  5,  1,  1,  1,  1,  1,  2,  1,  1,  1,  1,  3,  2,  1,  3,\n",
       "         1,  1,  2,  2,  1,  2,  3,  2,  1,  1,  3,  2,  1,  1,  1,  1,  1,\n",
       "         1,  1,  1,  2,  2,  2,  1,  2,  1,  3,  3,  1,  4,  1,  1,  2,  5,\n",
       "         2,  1,  1,  2,  2,  1,  1,  4,  1,  1,  1,  4,  2,  2,  2,  1,  3,\n",
       "         1,  2,  3,  1,  2,  3,  1,  3,  2,  1,  2,  3,  2,  1,  1,  2,  1,\n",
       "         2,  3,  1,  1,  2,  5,  1,  1,  1,  1,  1,  1,  3,  1,  1,  5,  1,\n",
       "         1,  1,  2,  1,  1,  2,  1,  1,  2,  2,  4,  4,  1,  2,  2,  1,  1,\n",
       "         1,  1,  2,  1,  3,  2,  1,  1,  1,  2,  3,  2,  2,  3,  1,  2,  1,\n",
       "         1,  5,  2,  1,  3,  1,  2,  3,  1,  2,  1,  1,  1,  2,  3,  1,  1,\n",
       "         1,  1,  1,  2,  1,  1,  3,  1,  1,  2,  1,  1,  1,  1,  1,  1,  1,\n",
       "         2,  1,  1,  1,  1,  1,  1,  2,  1,  1,  2,  1,  1,  2,  1,  1,  2,\n",
       "         1,  2,  1,  2,  1,  2,  2,  1,  1,  2,  1,  2,  1,  1,  2,  1,  1,\n",
       "         1,  1,  2,  2,  2,  1,  2,  1,  2,  3,  1,  1,  3,  1,  3,  1,  1,\n",
       "         1,  2,  1,  2,  2,  1,  1,  1,  3,  1,  1,  2,  2,  3,  1,  3,  1,\n",
       "         1,  2,  2,  1,  1,  1,  1,  1,  2,  1,  1,  1,  2,  1,  1,  1,  1,\n",
       "         1,  6,  1,  3,  2,  1,  1,  2,  1,  1,  2,  1,  1,  1,  1,  2,  3,\n",
       "         1,  1,  1,  1,  1,  1,  1,  2,  1,  1,  1,  3,  1,  1,  1,  1,  1,\n",
       "         1,  1,  1,  1,  1,  1,  1,  2,  1,  1,  1,  1,  1,  1,  1,  1,  1,\n",
       "         2,  1,  2,  1,  1,  1,  1,  1,  2,  1,  1,  1,  1,  1,  1,  1,  1,\n",
       "         1,  1,  1,  1,  1,  1,  1,  1,  1,  1,  1,  1,  1,  1,  1,  1,  1,\n",
       "         1,  1,  1,  1,  1]))"
      ]
     },
     "execution_count": 54,
     "metadata": {},
     "output_type": "execute_result"
    }
   ],
   "source": [
    "np.unique(df['1stFlrSF'],return_counts = True)"
   ]
  },
  {
   "cell_type": "code",
   "execution_count": 55,
   "id": "enclosed-steering",
   "metadata": {},
   "outputs": [
    {
     "data": {
      "text/plain": [
       "(array([   0,  110,  167,  192,  208,  213,  220,  224,  240,  252,  272,\n",
       "         299,  304,  316,  319,  325,  332,  336,  348,  349,  351,  358,\n",
       "         368,  370,  371,  378,  384,  390,  403,  406,  408,  430,  432,\n",
       "         438,  439,  441,  445,  448,  454,  455,  456,  457,  462,  464,\n",
       "         467,  468,  472,  473,  475,  482,  495,  504,  510,  511,  512,\n",
       "         514,  517,  518,  520,  521,  523,  524,  526,  527,  530,  533,\n",
       "         534,  539,  540,  545,  546,  547,  548,  550,  551,  556,  557,\n",
       "         560,  561,  564,  566,  567,  568,  571,  573,  574,  576,  580,\n",
       "         581,  582,  584,  586,  587,  589,  590,  591,  592,  595,  596,\n",
       "         600,  601,  602,  605,  611,  612,  620,  622,  623,  625,  626,\n",
       "         628,  630,  631,  634,  636,  639,  640,  644,  648,  649,  650,\n",
       "         651,  653,  656,  660,  661,  664,  665,  668,  670,  672,  676,\n",
       "         677,  678,  679,  682,  684,  685,  686,  687,  688,  689,  691,\n",
       "         694,  695,  698,  700,  701,  702,  703,  704,  707,  708,  709,\n",
       "         711,  712,  713,  714,  716,  717,  720,  725,  727,  728,  729,\n",
       "         730,  732,  734,  738,  739,  741,  742,  743,  744,  745,  748,\n",
       "         750,  752,  754,  755,  756,  761,  762,  764,  765,  766,  767,\n",
       "         768,  769,  772,  776,  778,  779,  780,  783,  784,  785,  787,\n",
       "         788,  790,  793,  795,  796,  797,  798,  800,  804,  806,  807,\n",
       "         808,  809,  811,  812,  813,  817,  826,  828,  829,  830,  831,\n",
       "         832,  833,  834,  836,  838,  840,  842,  843,  844,  846,  848,\n",
       "         850,  854,  855,  857,  858,  860,  862,  864,  866,  868,  870,\n",
       "         871,  872,  873,  874,  875,  876,  878,  880,  881,  882,  883,\n",
       "         884,  885,  886,  887,  888,  892,  895,  896,  898,  900,  901,\n",
       "         902,  903,  904,  908,  910,  912,  913,  914,  915,  918,  920,\n",
       "         924,  925,  928,  929,  930,  932,  933,  936,  939,  940,  941,\n",
       "         950,  954,  956,  960,  966,  971,  975,  977,  978,  979,  980,\n",
       "         981,  983,  984,  985,  988,  989,  992,  994,  998, 1000, 1001,\n",
       "        1015, 1017, 1020, 1028, 1031, 1032, 1037, 1038, 1039, 1040, 1044,\n",
       "        1051, 1053, 1054, 1060, 1063, 1066, 1067, 1070, 1072, 1080, 1081,\n",
       "        1088, 1092, 1093, 1096, 1097, 1098, 1100, 1101, 1103, 1104, 1106,\n",
       "        1111, 1112, 1116, 1120, 1121, 1122, 1128, 1129, 1134, 1140, 1141,\n",
       "        1142, 1151, 1152, 1157, 1160, 1168, 1169, 1174, 1175, 1177, 1178,\n",
       "        1182, 1185, 1194, 1196, 1200, 1203, 1208, 1215, 1216, 1218, 1230,\n",
       "        1237, 1242, 1243, 1254, 1257, 1259, 1274, 1276, 1281, 1286, 1288,\n",
       "        1296, 1304, 1306, 1312, 1320, 1323, 1330, 1332, 1336, 1347, 1349,\n",
       "        1357, 1360, 1362, 1370, 1392, 1414, 1426, 1427, 1440, 1479, 1518,\n",
       "        1519, 1523, 1538, 1540, 1589, 1611, 1796, 1818, 1872, 2065]),\n",
       " array([829,   1,   1,   1,   1,   1,   1,   1,   2,   2,   1,   1,   1,\n",
       "          1,   1,   1,   1,   1,   1,   1,   1,   1,   1,   1,   1,   1,\n",
       "          2,   1,   1,   2,   2,   1,   2,   1,   1,   1,   2,   2,   1,\n",
       "          1,   1,   1,   1,   1,   2,   1,   2,   1,   1,   1,   1,   9,\n",
       "          1,   1,   1,   1,   1,   1,   2,   1,   1,   1,   1,   1,   2,\n",
       "          1,   2,   1,   1,   1,   8,   1,   1,   2,   4,   1,   1,   2,\n",
       "          1,   2,   1,   2,   2,   1,   1,   2,   2,   1,   1,   1,   2,\n",
       "          1,   1,   1,   1,   1,   1,   1,   3,   7,   2,   1,   1,   1,\n",
       "          2,   2,   1,   1,   2,   1,   1,   1,   1,   1,   1,   1,   2,\n",
       "          1,   2,   1,   2,   2,   1,   2,   3,   1,   1,   1,   3,   3,\n",
       "          8,   2,   3,   2,   1,   1,   3,   2,   1,   1,   2,   5,   1,\n",
       "          1,   1,   2,   1,   1,   4,   2,   3,   1,   1,   2,   1,   1,\n",
       "          1,   1,   2,   1,   7,   1,   1,  10,   3,   1,   1,   1,   1,\n",
       "          4,   4,   3,   1,   2,   1,   2,   1,   1,   2,   2,   5,   1,\n",
       "          2,   2,   2,   1,   1,   1,   1,   1,   1,   1,   1,   5,   2,\n",
       "          1,   2,   1,   1,   2,   3,   3,   1,   2,   1,   2,   4,   2,\n",
       "          3,   2,   2,   1,   1,   2,   1,   1,   1,   2,   1,   1,   3,\n",
       "          2,   1,   1,   1,   5,   2,   1,   2,   3,   1,   2,   1,   1,\n",
       "          1,   3,   2,   5,   2,   3,   1,   1,   3,   2,   1,   1,   1,\n",
       "          2,   4,   3,   1,   1,   1,   2,   2,   3,   2,   3,   1,   1,\n",
       "          6,   1,   2,   1,   2,   1,   1,   1,   1,   2,   1,   1,   3,\n",
       "          1,   1,   1,   1,   1,   1,   1,   1,   1,   1,   1,   1,   2,\n",
       "          1,   1,   1,   1,   1,   1,   2,   1,   2,   1,   1,   1,   2,\n",
       "          1,   1,   1,   1,   1,   1,   1,   1,   1,   1,   1,   2,   1,\n",
       "          1,   2,   1,   1,   1,   2,   1,   1,   1,   1,   1,   1,   1,\n",
       "          1,   2,   1,   1,   1,   1,   1,   1,   1,   1,   1,   1,   2,\n",
       "          1,   1,   1,   1,   1,   1,   1,   1,   1,   1,   1,   1,   2,\n",
       "          1,   2,   1,   1,   1,   1,   1,   1,   1,   1,   2,   1,   1,\n",
       "          1,   1,   1,   1,   1,   2,   2,   1,   1,   1,   1,   1,   1,\n",
       "          3,   1,   1,   1,   1,   1,   1,   1,   1,   1,   1,   1,   2,\n",
       "          1,   2,   1,   1,   1,   1,   1,   1,   1,   1,   1,   1,   1,\n",
       "          1,   1,   1,   1,   1,   1,   1,   1,   1,   1,   1,   1,   1,\n",
       "          1]))"
      ]
     },
     "execution_count": 55,
     "metadata": {},
     "output_type": "execute_result"
    }
   ],
   "source": [
    "np.unique(df['2ndFlrSF'],return_counts = True)"
   ]
  },
  {
   "cell_type": "code",
   "execution_count": 56,
   "id": "recreational-spread",
   "metadata": {},
   "outputs": [
    {
     "data": {
      "text/plain": [
       "(array([  0,  53,  80, 120, 144, 156, 205, 232, 234, 360, 371, 384, 390,\n",
       "        392, 397, 420, 473, 479, 481, 513, 514, 515, 528, 572]),\n",
       " array([1434,    1,    3,    1,    1,    1,    1,    1,    1,    2,    1,\n",
       "           1,    1,    1,    1,    1,    1,    1,    1,    1,    1,    1,\n",
       "           1,    1]))"
      ]
     },
     "execution_count": 56,
     "metadata": {},
     "output_type": "execute_result"
    }
   ],
   "source": [
    "np.unique(df['LowQualFinSF'],return_counts = True)"
   ]
  },
  {
   "cell_type": "code",
   "execution_count": 57,
   "id": "bright-circuit",
   "metadata": {},
   "outputs": [
    {
     "data": {
      "text/plain": [
       "(array([ 334,  438,  480,  520,  605,  616,  630,  672,  691,  693,  694,\n",
       "         698,  708,  720,  729,  747,  752,  754,  764,  767,  768,  773,\n",
       "         774,  778,  780,  784,  788,  789,  790,  792,  796,  800,  803,\n",
       "         804,  813,  816,  825,  827,  832,  833,  835,  838,  840,  841,\n",
       "         845,  848,  854,  858,  860,  861,  864,  866,  869,  872,  874,\n",
       "         875,  882,  884,  886,  892,  893,  894,  899,  900,  901,  902,\n",
       "         904,  907,  910,  912,  913,  914,  918,  923,  924,  925,  928,\n",
       "         930,  932,  935,  936,  938,  943,  944,  948,  950,  951,  952,\n",
       "         954,  955,  958,  960,  964,  965,  968,  969,  970,  971,  972,\n",
       "         974,  980,  981,  985,  986,  987,  988,  990,  996,  999, 1002,\n",
       "        1003, 1004, 1005, 1006, 1008, 1012, 1015, 1020, 1022, 1026, 1028,\n",
       "        1029, 1032, 1034, 1039, 1040, 1041, 1044, 1047, 1048, 1050, 1052,\n",
       "        1053, 1054, 1056, 1057, 1060, 1062, 1063, 1065, 1067, 1068, 1069,\n",
       "        1072, 1073, 1074, 1077, 1078, 1080, 1082, 1086, 1088, 1090, 1092,\n",
       "        1094, 1095, 1096, 1097, 1098, 1099, 1100, 1102, 1103, 1108, 1109,\n",
       "        1110, 1111, 1112, 1113, 1114, 1116, 1117, 1118, 1120, 1121, 1122,\n",
       "        1123, 1124, 1125, 1126, 1128, 1130, 1131, 1132, 1134, 1135, 1136,\n",
       "        1137, 1138, 1140, 1141, 1142, 1144, 1145, 1146, 1148, 1150, 1152,\n",
       "        1154, 1155, 1158, 1159, 1163, 1164, 1165, 1166, 1167, 1173, 1176,\n",
       "        1178, 1180, 1181, 1183, 1184, 1188, 1190, 1192, 1194, 1196, 1198,\n",
       "        1199, 1200, 1203, 1204, 1208, 1211, 1212, 1214, 1215, 1216, 1217,\n",
       "        1218, 1220, 1221, 1223, 1224, 1225, 1226, 1228, 1229, 1230, 1232,\n",
       "        1234, 1235, 1236, 1240, 1241, 1242, 1244, 1246, 1247, 1248, 1250,\n",
       "        1251, 1252, 1253, 1256, 1258, 1261, 1262, 1264, 1265, 1266, 1268,\n",
       "        1269, 1271, 1274, 1276, 1277, 1279, 1283, 1284, 1285, 1287, 1288,\n",
       "        1291, 1294, 1296, 1297, 1298, 1301, 1302, 1304, 1306, 1308, 1309,\n",
       "        1310, 1314, 1316, 1317, 1319, 1320, 1322, 1324, 1327, 1328, 1334,\n",
       "        1336, 1337, 1338, 1339, 1340, 1342, 1343, 1344, 1346, 1347, 1348,\n",
       "        1349, 1350, 1352, 1355, 1357, 1358, 1360, 1362, 1363, 1364, 1365,\n",
       "        1367, 1368, 1369, 1370, 1372, 1374, 1375, 1376, 1378, 1381, 1382,\n",
       "        1383, 1385, 1386, 1387, 1389, 1391, 1392, 1393, 1394, 1395, 1396,\n",
       "        1400, 1402, 1405, 1406, 1411, 1412, 1414, 1416, 1419, 1422, 1425,\n",
       "        1426, 1428, 1429, 1430, 1431, 1432, 1434, 1436, 1437, 1440, 1441,\n",
       "        1442, 1445, 1446, 1452, 1453, 1456, 1458, 1459, 1464, 1466, 1468,\n",
       "        1469, 1470, 1471, 1472, 1473, 1474, 1475, 1476, 1477, 1478, 1479,\n",
       "        1481, 1482, 1484, 1486, 1487, 1489, 1490, 1493, 1494, 1496, 1498,\n",
       "        1500, 1501, 1502, 1504, 1505, 1506, 1507, 1509, 1510, 1511, 1512,\n",
       "        1513, 1516, 1517, 1518, 1520, 1522, 1523, 1524, 1525, 1526, 1529,\n",
       "        1530, 1533, 1535, 1536, 1537, 1539, 1541, 1547, 1548, 1550, 1552,\n",
       "        1553, 1554, 1555, 1556, 1557, 1558, 1559, 1560, 1561, 1563, 1564,\n",
       "        1566, 1567, 1569, 1571, 1572, 1573, 1574, 1575, 1576, 1577, 1578,\n",
       "        1580, 1582, 1584, 1586, 1588, 1590, 1593, 1595, 1600, 1601, 1602,\n",
       "        1603, 1604, 1605, 1608, 1610, 1611, 1614, 1616, 1617, 1620, 1621,\n",
       "        1622, 1624, 1625, 1626, 1629, 1630, 1632, 1634, 1635, 1636, 1638,\n",
       "        1639, 1640, 1641, 1644, 1646, 1647, 1651, 1652, 1654, 1656, 1657,\n",
       "        1658, 1659, 1660, 1661, 1663, 1664, 1665, 1666, 1668, 1670, 1671,\n",
       "        1674, 1675, 1679, 1680, 1682, 1683, 1684, 1686, 1687, 1688, 1689,\n",
       "        1690, 1691, 1692, 1694, 1696, 1698, 1699, 1700, 1701, 1702, 1704,\n",
       "        1707, 1708, 1709, 1710, 1712, 1713, 1714, 1716, 1717, 1718, 1719,\n",
       "        1720, 1721, 1724, 1725, 1726, 1728, 1732, 1733, 1734, 1738, 1739,\n",
       "        1740, 1742, 1743, 1744, 1746, 1750, 1752, 1756, 1761, 1762, 1764,\n",
       "        1766, 1767, 1768, 1771, 1774, 1775, 1776, 1779, 1784, 1786, 1787,\n",
       "        1788, 1790, 1792, 1795, 1796, 1797, 1800, 1801, 1802, 1803, 1804,\n",
       "        1811, 1812, 1818, 1820, 1824, 1826, 1828, 1829, 1836, 1838, 1839,\n",
       "        1840, 1842, 1844, 1845, 1846, 1848, 1850, 1851, 1852, 1855, 1856,\n",
       "        1861, 1863, 1865, 1867, 1868, 1869, 1872, 1876, 1886, 1888, 1889,\n",
       "        1894, 1895, 1902, 1904, 1905, 1908, 1911, 1912, 1913, 1915, 1919,\n",
       "        1920, 1922, 1923, 1924, 1928, 1929, 1932, 1933, 1935, 1936, 1939,\n",
       "        1940, 1944, 1947, 1948, 1949, 1950, 1953, 1954, 1958, 1959, 1960,\n",
       "        1961, 1962, 1964, 1968, 1969, 1970, 1971, 1973, 1976, 1977, 1978,\n",
       "        1980, 1981, 1982, 1983, 1986, 1987, 1989, 1991, 1992, 1993, 2000,\n",
       "        2002, 2007, 2008, 2013, 2018, 2019, 2020, 2021, 2022, 2028, 2030,\n",
       "        2031, 2034, 2035, 2036, 2042, 2046, 2054, 2057, 2058, 2060, 2062,\n",
       "        2069, 2073, 2076, 2078, 2080, 2082, 2084, 2087, 2090, 2093, 2094,\n",
       "        2097, 2098, 2108, 2110, 2112, 2113, 2117, 2119, 2121, 2126, 2127,\n",
       "        2132, 2134, 2136, 2138, 2142, 2144, 2149, 2153, 2156, 2157, 2158,\n",
       "        2161, 2167, 2169, 2172, 2183, 2184, 2192, 2196, 2198, 2200, 2201,\n",
       "        2207, 2210, 2217, 2223, 2224, 2229, 2230, 2234, 2236, 2240, 2243,\n",
       "        2256, 2259, 2260, 2262, 2263, 2267, 2270, 2274, 2285, 2287, 2290,\n",
       "        2291, 2295, 2296, 2320, 2324, 2329, 2332, 2337, 2340, 2344, 2345,\n",
       "        2353, 2358, 2364, 2365, 2372, 2374, 2376, 2380, 2392, 2398, 2402,\n",
       "        2403, 2414, 2417, 2418, 2447, 2448, 2450, 2452, 2462, 2466, 2468,\n",
       "        2473, 2482, 2504, 2514, 2515, 2519, 2520, 2521, 2524, 2526, 2531,\n",
       "        2554, 2555, 2574, 2576, 2596, 2599, 2601, 2610, 2612, 2614, 2620,\n",
       "        2622, 2624, 2630, 2633, 2634, 2640, 2643, 2646, 2654, 2668, 2696,\n",
       "        2704, 2713, 2715, 2727, 2728, 2730, 2775, 2784, 2792, 2794, 2810,\n",
       "        2822, 2828, 2868, 2872, 2898, 2945, 2978, 3082, 3086, 3112, 3140,\n",
       "        3194, 3222, 3228, 3238, 3279, 3395, 3447, 3493, 3608, 3627, 4316,\n",
       "        4476, 4676, 5642]),\n",
       " array([ 1,  1,  1,  1,  1,  1,  6,  2,  1,  1,  1,  1,  1,  3,  1,  2,  1,\n",
       "         1,  1,  1,  3,  1,  1,  1,  1,  2,  1,  2,  1,  1,  2,  1,  1,  1,\n",
       "         1,  8,  1,  1,  1,  2,  1,  1,  1,  1,  2, 10,  1,  4,  1,  1, 22,\n",
       "         1,  1,  1,  1,  1,  4,  1,  1,  2,  1, 11,  1,  3,  1,  2,  3,  1,\n",
       "         1,  9,  1,  1,  1,  2,  3,  1,  2,  1,  1,  2,  3,  1,  1,  1,  3,\n",
       "         1,  1,  3,  2,  1,  3,  5,  1,  1,  3,  1,  1,  1,  1,  1,  3,  1,\n",
       "         1,  1,  7,  5,  5,  2,  3,  1,  1,  2,  1,  1,  2,  1,  1,  1,  1,\n",
       "         2,  1,  1,  1,  2,  1, 14,  1,  1,  1,  3,  2,  2,  2,  2,  6,  2,\n",
       "         2,  1,  1,  1,  1,  1,  2,  3,  2,  1,  3,  2,  3,  1,  2,  1,  1,\n",
       "         8,  1,  1,  2,  2,  1,  1,  1,  1,  1,  1,  1,  1,  3,  1,  2,  2,\n",
       "         1,  1,  3,  2,  2,  1,  1,  1,  2,  3,  3,  1,  2,  1,  2,  1,  1,\n",
       "         1,  1,  2,  1,  1,  5,  1,  1,  2,  1,  3,  2,  1,  2,  1,  1,  2,\n",
       "         1,  1,  2,  1,  2,  2,  1,  1,  1,  1,  2,  1,  2,  2,  3,  1,  1,\n",
       "         9,  1,  1,  4,  1,  3,  3,  1,  2,  2,  5,  2,  2,  1,  6,  1,  1,\n",
       "         2,  2,  2,  2,  1,  1,  3,  1,  1,  1,  1,  1,  1,  2,  4,  1,  5,\n",
       "         2,  1,  4,  1,  2,  1,  1,  2,  3,  2,  1,  1,  1,  1,  1,  1,  1,\n",
       "         2,  1,  1,  1,  3,  2,  1,  1,  2,  5,  1,  3,  1,  1,  2,  5,  3,\n",
       "         1,  1,  2,  1,  3,  1,  3,  1,  2,  4,  1,  2,  2,  1,  1,  7,  1,\n",
       "         1,  2,  1,  2,  3,  2,  1,  2,  3,  4,  3,  1,  2,  2,  3,  1,  2,\n",
       "         1,  1,  2,  2,  1,  1,  4,  2,  1,  1,  1,  2,  1,  5,  1,  2,  1,\n",
       "         1,  1,  1,  1,  1,  1,  3,  4,  4,  2,  3,  1,  2,  2,  1,  3,  2,\n",
       "         3,  1,  1,  2,  4,  2,  4,  1,  1,  2,  1, 10,  2,  1,  2,  3,  1,\n",
       "         1,  3,  1,  3,  1,  1,  1,  1,  1,  3,  4,  1,  3,  6,  1,  1,  3,\n",
       "         1,  1,  6,  2,  2,  3,  3,  4,  3,  2,  2,  1,  3,  1,  1,  1,  1,\n",
       "         1,  2,  1,  2,  1,  1,  2,  2,  2,  1,  2,  1,  3,  1,  1,  2,  2,\n",
       "         1,  2,  1,  2,  1,  1,  2,  2,  1,  2,  1,  2,  1,  1,  2,  1,  2,\n",
       "         1,  2,  2,  4,  2,  1,  3,  1,  2,  1,  2,  1,  1,  3,  1,  3,  1,\n",
       "         3,  3,  1,  1,  3,  1,  1,  1,  1,  1,  3,  1,  3,  1,  1,  1,  1,\n",
       "         3,  2,  2,  4,  1,  2,  1,  1,  1,  3,  1,  3,  4,  3,  1,  4,  1,\n",
       "         5,  1,  1,  1,  3,  3,  1,  4,  2,  1,  4,  1,  1,  2,  1,  1,  4,\n",
       "         2,  1,  1,  1,  1,  1,  3,  2,  1,  1,  4,  1,  1,  1,  2,  1,  1,\n",
       "         1,  1,  1,  4,  5,  1,  1,  1,  4,  3,  3,  1,  3,  2,  2,  1,  1,\n",
       "         7,  1,  2,  4,  1,  1,  1,  2,  1,  1,  1,  2,  2,  1,  1,  1,  1,\n",
       "         1,  1,  6,  1,  2,  1,  3,  2,  1,  3,  1,  2,  2,  4,  3,  2,  1,\n",
       "         4,  2,  1,  1,  1,  1,  2,  1,  2,  3,  2,  1,  1,  2,  2,  3,  1,\n",
       "         1,  3,  1,  1,  1,  2,  1,  2,  2,  1,  1,  1,  1,  1,  2,  2,  2,\n",
       "         1,  1,  1,  1,  1,  1,  2,  2,  1,  2,  1,  1,  1,  1,  1,  3,  2,\n",
       "         1,  1,  3,  1,  1,  1,  2,  1,  1,  1,  1,  1,  1,  1,  1,  2,  1,\n",
       "         2,  3,  2,  1,  1,  2,  2,  1,  1,  1,  1,  1,  1,  1,  1,  1,  1,\n",
       "         1,  1,  1,  1,  1,  1,  1,  1,  1,  1,  1,  1,  1,  1,  3,  1,  1,\n",
       "         1,  1,  2,  1,  1,  1,  1,  2,  1,  1,  1,  2,  1,  1,  1,  1,  1,\n",
       "         2,  1,  2,  1,  3,  1,  1,  3,  1,  1,  2,  1,  1,  1,  1,  1,  1,\n",
       "         2,  1,  1,  1,  1,  1,  1,  1,  1,  1,  1,  1,  1,  1,  1,  1,  1,\n",
       "         1,  1,  1,  1,  1,  1,  1,  1,  1,  1,  1,  1,  1,  1,  1,  1,  1,\n",
       "         1,  1,  1,  1,  3,  1,  1,  1,  1,  1,  2,  2,  1,  1,  2,  1,  1,\n",
       "         1,  1,  1,  1,  1,  1,  2,  1,  1,  1,  1,  1,  1,  2,  1,  1,  1,\n",
       "         1,  1,  1,  1,  1,  1,  2,  1,  1,  1,  1,  1,  1,  1,  1,  1,  2,\n",
       "         1,  1,  2,  1,  1,  1,  1,  1,  1,  1,  1,  1,  1,  1,  1,  1,  1,\n",
       "         1,  1,  1,  1,  1,  1,  1,  1,  1,  1,  1,  1,  1,  1,  1,  1,  1,\n",
       "         1,  1,  1,  1,  1,  1,  2,  1,  1,  1,  1,  1,  1,  1,  1,  1,  1,\n",
       "         1,  1,  1,  1,  1,  1,  1,  1,  1,  1,  1]))"
      ]
     },
     "execution_count": 57,
     "metadata": {},
     "output_type": "execute_result"
    }
   ],
   "source": [
    "np.unique(df['GrLivArea'],return_counts = True)"
   ]
  },
  {
   "cell_type": "code",
   "execution_count": 58,
   "id": "related-filter",
   "metadata": {},
   "outputs": [
    {
     "data": {
      "text/plain": [
       "(array([0, 1, 2, 3]), array([856, 588,  15,   1]))"
      ]
     },
     "execution_count": 58,
     "metadata": {},
     "output_type": "execute_result"
    }
   ],
   "source": [
    "np.unique(df['BsmtFullBath'],return_counts = True)"
   ]
  },
  {
   "cell_type": "code",
   "execution_count": 59,
   "id": "promotional-bible",
   "metadata": {},
   "outputs": [
    {
     "data": {
      "text/plain": [
       "(array([0, 1, 2]), array([1378,   80,    2]))"
      ]
     },
     "execution_count": 59,
     "metadata": {},
     "output_type": "execute_result"
    }
   ],
   "source": [
    "np.unique(df['BsmtHalfBath'],return_counts = True)"
   ]
  },
  {
   "cell_type": "code",
   "execution_count": 60,
   "id": "essential-possession",
   "metadata": {},
   "outputs": [
    {
     "data": {
      "text/plain": [
       "(array([0, 1, 2, 3]), array([  9, 650, 768,  33]))"
      ]
     },
     "execution_count": 60,
     "metadata": {},
     "output_type": "execute_result"
    }
   ],
   "source": [
    "np.unique(df['FullBath'],return_counts = True)"
   ]
  },
  {
   "cell_type": "code",
   "execution_count": 61,
   "id": "corrected-angola",
   "metadata": {},
   "outputs": [
    {
     "data": {
      "text/plain": [
       "(array([0, 1, 2]), array([913, 535,  12]))"
      ]
     },
     "execution_count": 61,
     "metadata": {},
     "output_type": "execute_result"
    }
   ],
   "source": [
    "np.unique(df['HalfBath'],return_counts = True)"
   ]
  },
  {
   "cell_type": "code",
   "execution_count": 62,
   "id": "suspected-dividend",
   "metadata": {},
   "outputs": [
    {
     "data": {
      "text/plain": [
       "(array([0, 1, 2, 3, 4, 5, 6, 8]),\n",
       " array([  6,  50, 358, 804, 213,  21,   7,   1]))"
      ]
     },
     "execution_count": 62,
     "metadata": {},
     "output_type": "execute_result"
    }
   ],
   "source": [
    "np.unique(df['BedroomAbvGr'],return_counts = True)"
   ]
  },
  {
   "cell_type": "code",
   "execution_count": 63,
   "id": "brief-workplace",
   "metadata": {},
   "outputs": [
    {
     "data": {
      "text/plain": [
       "(array(['Ex', 'Fa', 'Gd', 'TA'], dtype=object), array([100,  39, 586, 735]))"
      ]
     },
     "execution_count": 63,
     "metadata": {},
     "output_type": "execute_result"
    }
   ],
   "source": [
    "np.unique(df['KitchenQual'],return_counts = True)"
   ]
  },
  {
   "cell_type": "code",
   "execution_count": 64,
   "id": "christian-circus",
   "metadata": {},
   "outputs": [
    {
     "data": {
      "text/plain": [
       "(array([ 2,  3,  4,  5,  6,  7,  8,  9, 10, 11, 12, 14]),\n",
       " array([  1,  17,  97, 275, 402, 329, 187,  75,  47,  18,  11,   1]))"
      ]
     },
     "execution_count": 64,
     "metadata": {},
     "output_type": "execute_result"
    }
   ],
   "source": [
    "np.unique(df['TotRmsAbvGrd'],return_counts = True)"
   ]
  },
  {
   "cell_type": "code",
   "execution_count": 65,
   "id": "historic-montana",
   "metadata": {},
   "outputs": [
    {
     "data": {
      "text/plain": [
       "(array(['Maj1', 'Maj2', 'Min1', 'Min2', 'Mod', 'Sev', 'Typ'], dtype=object),\n",
       " array([  14,    5,   31,   34,   15,    1, 1360]))"
      ]
     },
     "execution_count": 65,
     "metadata": {},
     "output_type": "execute_result"
    }
   ],
   "source": [
    "np.unique(df['Functional'],return_counts = True)"
   ]
  },
  {
   "cell_type": "code",
   "execution_count": 66,
   "id": "lesbian-service",
   "metadata": {},
   "outputs": [
    {
     "data": {
      "text/plain": [
       "(array([0, 1, 2, 3]), array([690, 650, 115,   5]))"
      ]
     },
     "execution_count": 66,
     "metadata": {},
     "output_type": "execute_result"
    }
   ],
   "source": [
    "np.unique(df['Fireplaces'],return_counts = True)"
   ]
  },
  {
   "cell_type": "code",
   "execution_count": 67,
   "id": "bored-official",
   "metadata": {},
   "outputs": [
    {
     "data": {
      "text/plain": [
       "(array(['0', 'Ex', 'Fa', 'Gd', 'Po', 'TA'], dtype=object),\n",
       " array([690,  24,  33, 380,  20, 313]))"
      ]
     },
     "execution_count": 67,
     "metadata": {},
     "output_type": "execute_result"
    }
   ],
   "source": [
    "np.unique(df['FireplaceQu'],return_counts = True)"
   ]
  },
  {
   "cell_type": "code",
   "execution_count": 68,
   "id": "defined-review",
   "metadata": {},
   "outputs": [
    {
     "data": {
      "text/plain": [
       "(array(['0', '2Types', 'Attchd', 'Basment', 'BuiltIn', 'CarPort', 'Detchd'],\n",
       "       dtype=object),\n",
       " array([ 81,   6, 870,  19,  88,   9, 387]))"
      ]
     },
     "execution_count": 68,
     "metadata": {},
     "output_type": "execute_result"
    }
   ],
   "source": [
    "np.unique(df['GarageType'],return_counts = True)"
   ]
  },
  {
   "cell_type": "code",
   "execution_count": 69,
   "id": "handy-explorer",
   "metadata": {},
   "outputs": [
    {
     "data": {
      "text/plain": [
       "(array([   0, 1900, 1906, 1908, 1910, 1914, 1915, 1916, 1918, 1920, 1921,\n",
       "        1922, 1923, 1924, 1925, 1926, 1927, 1928, 1929, 1930, 1931, 1932,\n",
       "        1933, 1934, 1935, 1936, 1937, 1938, 1939, 1940, 1941, 1942, 1945,\n",
       "        1946, 1947, 1948, 1949, 1950, 1951, 1952, 1953, 1954, 1955, 1956,\n",
       "        1957, 1958, 1959, 1960, 1961, 1962, 1963, 1964, 1965, 1966, 1967,\n",
       "        1968, 1969, 1970, 1971, 1972, 1973, 1974, 1975, 1976, 1977, 1978,\n",
       "        1979, 1980, 1981, 1982, 1983, 1984, 1985, 1986, 1987, 1988, 1989,\n",
       "        1990, 1991, 1992, 1993, 1994, 1995, 1996, 1997, 1998, 1999, 2000,\n",
       "        2001, 2002, 2003, 2004, 2005, 2006, 2007, 2008, 2009, 2010]),\n",
       " array([81,  1,  1,  1,  3,  2,  2,  5,  2, 14,  3,  5,  3,  3, 10,  6,  1,\n",
       "         4,  2,  8,  4,  3,  1,  2,  4,  5,  2,  3,  9, 14, 10,  2,  4,  4,\n",
       "         2, 11,  8, 24,  6,  3, 12, 19, 13, 16, 20, 21, 17, 19, 13, 21, 16,\n",
       "        18, 21, 21, 15, 26, 15, 20, 13, 14, 14, 18,  9, 29, 35, 19, 15, 15,\n",
       "        10,  4,  7,  8, 10,  6, 11, 14, 10, 16,  9, 13, 22, 18, 18, 20, 19,\n",
       "        31, 30, 27, 20, 26, 50, 53, 65, 59, 49, 29, 21,  3]))"
      ]
     },
     "execution_count": 69,
     "metadata": {},
     "output_type": "execute_result"
    }
   ],
   "source": [
    "np.unique(df['GarageYrBlt'],return_counts = True)"
   ]
  },
  {
   "cell_type": "code",
   "execution_count": 70,
   "id": "plain-disease",
   "metadata": {},
   "outputs": [
    {
     "data": {
      "text/plain": [
       "(array(['0', 'Fin', 'RFn', 'Unf'], dtype=object), array([ 81, 352, 422, 605]))"
      ]
     },
     "execution_count": 70,
     "metadata": {},
     "output_type": "execute_result"
    }
   ],
   "source": [
    "np.unique(df['GarageFinish'],return_counts = True)"
   ]
  },
  {
   "cell_type": "code",
   "execution_count": 71,
   "id": "relevant-publication",
   "metadata": {},
   "outputs": [
    {
     "data": {
      "text/plain": [
       "(array([0, 1, 2, 3, 4]), array([ 81, 369, 824, 181,   5]))"
      ]
     },
     "execution_count": 71,
     "metadata": {},
     "output_type": "execute_result"
    }
   ],
   "source": [
    "np.unique(df['GarageCars'],return_counts = True)"
   ]
  },
  {
   "cell_type": "code",
   "execution_count": 72,
   "id": "express-traveler",
   "metadata": {},
   "outputs": [
    {
     "data": {
      "text/plain": [
       "(array([   0,  160,  164,  180,  186,  189,  192,  198,  200,  205,  208,\n",
       "         210,  213,  216,  220,  225,  228,  230,  234,  240,  244,  246,\n",
       "         248,  250,  252,  254,  255,  256,  260,  261,  264,  270,  271,\n",
       "         273,  275,  276,  280,  281,  282,  283,  284,  286,  287,  288,\n",
       "         290,  292,  294,  296,  297,  299,  300,  301,  303,  304,  305,\n",
       "         306,  308,  309,  312,  315,  318,  319,  320,  322,  324,  325,\n",
       "         326,  327,  328,  330,  336,  338,  342,  343,  349,  350,  352,\n",
       "         354,  358,  360,  364,  366,  367,  368,  370,  372,  373,  375,\n",
       "         377,  379,  380,  384,  386,  388,  389,  390,  392,  393,  396,\n",
       "         397,  398,  400,  402,  403,  404,  405,  406,  408,  409,  410,\n",
       "         412,  413,  414,  416,  418,  420,  422,  423,  424,  425,  426,\n",
       "         427,  429,  430,  431,  432,  433,  434,  435,  436,  437,  438,\n",
       "         439,  440,  441,  442,  444,  445,  447,  450,  451,  452,  453,\n",
       "         454,  455,  456,  457,  458,  459,  460,  461,  462,  463,  466,\n",
       "         467,  468,  470,  471,  472,  473,  474,  475,  476,  477,  478,\n",
       "         479,  480,  481,  482,  483,  484,  486,  487,  490,  492,  493,\n",
       "         494,  495,  496,  497,  498,  499,  500,  501,  502,  504,  505,\n",
       "         506,  508,  509,  510,  511,  512,  513,  514,  515,  516,  518,\n",
       "         520,  521,  522,  523,  525,  526,  527,  528,  529,  530,  531,\n",
       "         532,  533,  534,  538,  539,  540,  541,  542,  543,  544,  546,\n",
       "         548,  550,  551,  552,  554,  555,  556,  558,  560,  562,  564,\n",
       "         565,  566,  567,  569,  570,  572,  573,  574,  575,  576,  577,\n",
       "         578,  582,  583,  586,  588,  590,  592,  594,  595,  596,  598,\n",
       "         600,  601,  602,  603,  604,  605,  606,  608,  610,  611,  612,\n",
       "         613,  614,  615,  616,  617,  618,  619,  620,  621,  622,  624,\n",
       "         625,  626,  627,  628,  630,  632,  636,  639,  641,  642,  644,\n",
       "         645,  647,  648,  650,  656,  660,  662,  663,  665,  666,  667,\n",
       "         668,  670,  671,  672,  673,  675,  676,  678,  680,  682,  683,\n",
       "         684,  685,  686,  689,  690,  691,  693,  694,  696,  701,  702,\n",
       "         704,  706,  708,  711,  712,  714,  716,  719,  720,  721,  722,\n",
       "         726,  732,  736,  738,  739,  740,  746,  748,  749,  750,  752,\n",
       "         753,  754,  756,  757,  758,  765,  766,  768,  770,  772,  774,\n",
       "         776,  779,  782,  784,  786,  788,  789,  792,  795,  796,  800,\n",
       "         804,  807,  808,  810,  812,  813,  816,  818,  820,  824,  825,\n",
       "         826,  830,  831,  832,  833,  834,  836,  839,  840,  841,  842,\n",
       "         843,  844,  846,  850,  852,  853,  856,  857,  858,  860,  862,\n",
       "         864,  865,  866,  868,  870,  871,  872,  874,  878,  880,  884,\n",
       "         888,  889,  890,  894,  895,  898,  900,  902,  905,  908,  912,\n",
       "         923,  924,  928,  936,  947,  954,  968,  983,  995, 1014, 1020,\n",
       "        1025, 1043, 1052, 1053, 1069, 1134, 1166, 1220, 1248, 1356, 1390,\n",
       "        1418]),\n",
       " array([81,  2,  1,  9,  1,  1,  1,  1,  4,  3,  1,  3,  1, 12,  3,  2,  1,\n",
       "         1,  2, 38,  1,  2,  1,  3,  5,  1,  1,  2,  3,  1, 24,  5,  2,  2,\n",
       "         3,  2, 16,  3,  2,  1,  1,  9,  1, 27,  1,  1,  4,  2,  5,  5, 10,\n",
       "         2,  1,  2,  2,  1, 20,  1,  9,  2,  1,  1,  1,  1,  1,  1,  2,  1,\n",
       "         1,  1, 12,  5,  1,  1,  2,  1, 12,  1,  1, 11,  3,  1,  1,  2,  1,\n",
       "         1,  1,  1,  1,  1,  6,  9,  1,  3,  2,  6,  3,  3,  6,  3,  3, 25,\n",
       "         4,  2,  1,  1,  1,  1,  2,  3,  1,  1,  1,  2,  2, 19,  2,  1,  1,\n",
       "         1,  1,  1,  3,  4,  5,  8,  2,  5,  1,  2,  1,  3,  2, 49,  2,  4,\n",
       "         1,  1,  2,  5,  5,  3,  2,  2,  1,  2,  3,  1,  1,  7,  6, 10,  4,\n",
       "         2,  2,  2,  4,  3,  6,  2,  7,  1,  2,  1,  6,  1, 24,  1,  2,  2,\n",
       "        34,  3,  3,  6,  6,  2,  1,  4,  2,  2,  2,  2,  6,  1,  4, 12,  3,\n",
       "         7,  3,  1,  1,  2,  2,  2,  3,  1,  4,  1,  8,  2,  2,  1,  6,  1,\n",
       "         5, 33,  5,  5,  3,  4,  2,  2,  3,  9, 10,  3,  2,  1,  5,  6,  2,\n",
       "         8,  2,  4,  2,  1,  2,  1,  5,  1, 11,  2,  2,  2,  2,  2, 10,  2,\n",
       "         2,  2, 47,  4,  3,  1,  3,  2,  8,  1,  2,  1,  1,  2,  1,  4,  1,\n",
       "         1,  2,  1,  1,  2,  2,  2,  1,  2,  1,  2,  3,  1,  1,  1,  2,  1,\n",
       "         3,  1,  7,  2,  3,  1,  2,  3,  3,  1,  1,  1,  3,  2,  2,  1,  7,\n",
       "         2,  3,  9,  1,  1,  1,  3,  1,  1,  2,  1, 15,  1,  1,  5,  2,  2,\n",
       "         1,  1,  2,  1,  1,  1,  1,  2,  1,  1,  1,  1,  2,  1,  1,  1,  1,\n",
       "         2,  1,  1,  1,  5,  1,  1,  1,  1,  3,  1,  1,  1,  2,  1,  1,  3,\n",
       "         1,  1,  1,  1,  1,  3,  2,  1,  1,  1,  2,  2,  3,  3,  1,  1,  3,\n",
       "         1,  1,  2,  1,  2,  2,  1,  1,  1,  1,  2,  1,  1,  1,  2,  1,  1,\n",
       "         3,  1,  1,  1,  1,  4,  3,  2,  6,  1,  1,  1,  1,  1,  1,  1,  1,\n",
       "         2,  1,  1,  1,  1,  2,  2,  2,  2,  3,  2,  1,  1,  1,  3,  3,  3,\n",
       "         1,  1,  1,  2,  1,  2,  1,  1,  2,  1,  1,  2,  1,  2,  1,  1,  2,\n",
       "         1,  1,  1,  1,  1,  1,  2,  1,  1,  1,  1,  1,  1,  1,  1,  1]))"
      ]
     },
     "execution_count": 72,
     "metadata": {},
     "output_type": "execute_result"
    }
   ],
   "source": [
    "np.unique(df['GarageArea'],return_counts = True)"
   ]
  },
  {
   "cell_type": "code",
   "execution_count": 73,
   "id": "corporate-draft",
   "metadata": {},
   "outputs": [
    {
     "data": {
      "text/plain": [
       "(array(['0', 'Ex', 'Fa', 'Gd', 'Po', 'TA'], dtype=object),\n",
       " array([  81,    3,   48,   14,    3, 1311]))"
      ]
     },
     "execution_count": 73,
     "metadata": {},
     "output_type": "execute_result"
    }
   ],
   "source": [
    "np.unique(df['GarageQual'],return_counts = True)"
   ]
  },
  {
   "cell_type": "code",
   "execution_count": 74,
   "id": "stuck-midwest",
   "metadata": {},
   "outputs": [
    {
     "data": {
      "text/plain": [
       "(array(['0', 'Ex', 'Fa', 'Gd', 'Po', 'TA'], dtype=object),\n",
       " array([  81,    2,   35,    9,    7, 1326]))"
      ]
     },
     "execution_count": 74,
     "metadata": {},
     "output_type": "execute_result"
    }
   ],
   "source": [
    "np.unique(df['GarageCond'],return_counts = True)"
   ]
  },
  {
   "cell_type": "code",
   "execution_count": 75,
   "id": "casual-johns",
   "metadata": {},
   "outputs": [
    {
     "data": {
      "text/plain": [
       "(array(['N', 'P', 'Y'], dtype=object), array([  90,   30, 1340]))"
      ]
     },
     "execution_count": 75,
     "metadata": {},
     "output_type": "execute_result"
    }
   ],
   "source": [
    "np.unique(df['PavedDrive'],return_counts = True)"
   ]
  },
  {
   "cell_type": "code",
   "execution_count": 76,
   "id": "casual-dylan",
   "metadata": {},
   "outputs": [
    {
     "data": {
      "text/plain": [
       "(array([  0,  12,  24,  26,  28,  30,  32,  33,  35,  36,  38,  40,  42,\n",
       "         44,  45,  48,  49,  52,  53,  55,  56,  57,  58,  60,  63,  64,\n",
       "         66,  68,  70,  72,  74,  78,  80,  81,  84,  85,  86,  87,  88,\n",
       "         89,  90,  92,  95,  96,  97,  98, 100, 103, 104, 105, 106, 108,\n",
       "        110, 112, 113, 114, 115, 116, 117, 120, 121, 122, 123, 124, 125,\n",
       "        126, 127, 128, 132, 133, 135, 136, 138, 139, 140, 141, 142, 143,\n",
       "        144, 145, 146, 147, 148, 149, 150, 153, 154, 155, 156, 158, 159,\n",
       "        160, 161, 162, 164, 165, 166, 168, 169, 170, 171, 172, 173, 175,\n",
       "        176, 177, 178, 179, 180, 181, 182, 183, 184, 185, 186, 187, 188,\n",
       "        190, 192, 194, 195, 196, 197, 198, 199, 200, 201, 202, 203, 206,\n",
       "        207, 208, 209, 210, 212, 214, 215, 216, 218, 219, 220, 222, 224,\n",
       "        227, 228, 229, 232, 233, 234, 235, 236, 237, 238, 239, 240, 241,\n",
       "        242, 243, 245, 248, 250, 252, 253, 255, 256, 257, 260, 261, 262,\n",
       "        263, 264, 265, 268, 269, 270, 272, 276, 278, 280, 283, 288, 289,\n",
       "        290, 292, 294, 295, 296, 298, 300, 301, 302, 303, 304, 305, 306,\n",
       "        307, 309, 312, 314, 315, 316, 320, 321, 322, 324, 325, 326, 327,\n",
       "        328, 333, 335, 340, 342, 344, 349, 351, 352, 353, 355, 356, 361,\n",
       "        362, 364, 365, 366, 367, 370, 371, 379, 380, 382, 384, 390, 392,\n",
       "        394, 400, 402, 403, 404, 406, 409, 414, 416, 418, 421, 426, 431,\n",
       "        436, 439, 441, 448, 466, 468, 474, 476, 486, 495, 500, 503, 509,\n",
       "        511, 517, 519, 536, 550, 574, 576, 586, 635, 668, 670, 728, 736,\n",
       "        857]),\n",
       " array([761,   2,   2,   2,   2,   1,   1,   1,   1,   4,   2,   3,   1,\n",
       "          1,   1,   5,   2,   1,   1,   2,   1,   1,   2,   2,   1,   4,\n",
       "          1,   2,   1,   3,   4,   1,   3,   2,   1,   1,   1,   1,   3,\n",
       "          1,   1,   1,   1,   6,   1,   1,  36,   1,   4,   5,   2,   3,\n",
       "          1,   3,   3,   2,   2,   2,   1,  31,   1,   2,   2,   1,   4,\n",
       "          1,   2,   2,   6,   1,   2,   2,   2,   1,  15,   1,   3,   6,\n",
       "         33,   1,   2,   4,   2,   3,   3,   1,   2,   2,   6,   4,   1,\n",
       "          8,   2,   1,   3,   3,   2,  28,   2,   1,   5,   3,   1,   1,\n",
       "          1,   1,   3,   1,   8,   1,   4,   1,   2,   2,   2,   1,   3,\n",
       "          1,  38,   2,   1,   5,   1,   3,   1,   2,   3,   1,   3,   2,\n",
       "          1,  10,   2,   5,   2,   2,   1,   9,   1,   2,   4,   2,  14,\n",
       "          1,   2,   1,   1,   1,   1,   1,   1,   2,   2,   3,  10,   1,\n",
       "          1,   1,   1,   1,   6,   2,   2,   1,   2,   1,   1,   2,   2,\n",
       "          1,   6,   1,   3,   1,   3,   2,   2,   1,   3,   1,   5,   2,\n",
       "          2,   2,   1,   1,   2,   1,   2,   1,   2,   1,   1,   1,   1,\n",
       "          1,   1,   1,   2,   2,   2,   2,   1,   2,   2,   1,   1,   1,\n",
       "          2,   1,   3,   1,   2,   1,   2,   1,   1,   1,   1,   2,   1,\n",
       "          1,   2,   1,   1,   1,   2,   1,   1,   1,   2,   1,   1,   1,\n",
       "          1,   1,   1,   1,   1,   1,   1,   1,   1,   1,   1,   1,   2,\n",
       "          1,   1,   1,   1,   1,   1,   1,   1,   2,   1,   1,   1,   1,\n",
       "          1,   1,   1,   1,   1,   1,   1,   1,   1,   1,   1,   1,   1,\n",
       "          1]))"
      ]
     },
     "execution_count": 76,
     "metadata": {},
     "output_type": "execute_result"
    }
   ],
   "source": [
    "np.unique(df['WoodDeckSF'],return_counts = True)"
   ]
  },
  {
   "cell_type": "code",
   "execution_count": 77,
   "id": "portuguese-going",
   "metadata": {},
   "outputs": [
    {
     "data": {
      "text/plain": [
       "(array([  0,   4,   8,  10,  11,  12,  15,  16,  17,  18,  20,  21,  22,\n",
       "         23,  24,  25,  26,  27,  28,  29,  30,  32,  33,  34,  35,  36,\n",
       "         38,  39,  40,  41,  42,  43,  44,  45,  46,  47,  48,  49,  50,\n",
       "         51,  52,  53,  54,  55,  56,  57,  58,  59,  60,  61,  62,  63,\n",
       "         64,  65,  66,  67,  68,  69,  70,  72,  73,  74,  75,  76,  77,\n",
       "         78,  80,  81,  82,  83,  84,  85,  86,  87,  88,  90,  91,  92,\n",
       "         93,  94,  95,  96,  98,  99, 100, 101, 102, 103, 104, 105, 106,\n",
       "        108, 110, 111, 112, 113, 114, 116, 117, 118, 119, 120, 121, 122,\n",
       "        123, 124, 125, 126, 128, 129, 130, 131, 132, 133, 134, 135, 136,\n",
       "        137, 138, 140, 141, 142, 144, 146, 148, 150, 151, 152, 154, 155,\n",
       "        156, 158, 159, 160, 162, 166, 168, 169, 170, 172, 174, 175, 176,\n",
       "        180, 182, 184, 185, 187, 188, 189, 191, 192, 195, 198, 199, 200,\n",
       "        204, 205, 207, 208, 210, 211, 213, 214, 224, 228, 229, 231, 234,\n",
       "        235, 236, 238, 240, 241, 243, 244, 247, 250, 252, 258, 260, 262,\n",
       "        263, 265, 267, 274, 282, 285, 287, 288, 291, 292, 304, 312, 319,\n",
       "        341, 364, 406, 418, 502, 523, 547]),\n",
       " array([656,   1,   1,   1,   1,   3,   1,   8,   2,   5,  21,   5,   6,\n",
       "          2,  16,   7,   6,   7,  14,   5,  16,  11,   7,   4,  11,  29,\n",
       "          8,  14,  19,   2,  10,   2,  13,  19,   6,   3,  22,   4,  13,\n",
       "          6,   4,   3,  13,   6,   8,   4,   2,   5,  15,   3,   5,  11,\n",
       "          9,   5,   9,   1,   8,   3,   8,  12,   3,   5,  10,   5,   1,\n",
       "          8,   7,   3,   4,   1,   8,   1,   1,   3,   5,   5,   1,   1,\n",
       "          1,   1,   1,  10,  11,   2,   6,   1,   7,   1,   5,   4,   1,\n",
       "          5,   5,   3,   5,   4,   7,   6,   1,   1,   1,  10,   2,   3,\n",
       "          1,   3,   1,   1,   5,   1,   7,   1,   3,   1,   1,   1,   3,\n",
       "          1,   2,   6,   1,   1,   7,   2,   1,   5,   3,   2,   4,   2,\n",
       "          1,   3,   1,   2,   2,   3,   4,   2,   2,   2,   1,   1,   1,\n",
       "          1,   1,   3,   1,   1,   1,   1,   1,   3,   1,   2,   1,   1,\n",
       "          2,   1,   2,   1,   1,   2,   1,   1,   1,   2,   1,   1,   3,\n",
       "          1,   1,   1,   2,   1,   1,   1,   1,   1,   1,   1,   1,   1,\n",
       "          1,   1,   1,   1,   1,   1,   1,   1,   1,   1,   1,   2,   1,\n",
       "          1,   1,   1,   1,   1,   1,   1]))"
      ]
     },
     "execution_count": 77,
     "metadata": {},
     "output_type": "execute_result"
    }
   ],
   "source": [
    "np.unique(df['OpenPorchSF'],return_counts = True)"
   ]
  },
  {
   "cell_type": "code",
   "execution_count": 78,
   "id": "nominated-acrylic",
   "metadata": {},
   "outputs": [
    {
     "data": {
      "text/plain": [
       "(array([  0,  19,  20,  24,  30,  32,  34,  36,  37,  39,  40,  42,  44,\n",
       "         48,  50,  52,  54,  56,  60,  64,  67,  68,  70,  77,  80,  81,\n",
       "         84,  87,  90,  91,  94,  96,  98,  99, 100, 102, 105, 108, 112,\n",
       "        114, 115, 116, 120, 123, 126, 128, 129, 130, 134, 136, 137, 138,\n",
       "        140, 143, 144, 145, 148, 150, 154, 156, 158, 160, 162, 164, 168,\n",
       "        169, 170, 172, 174, 176, 177, 180, 183, 184, 185, 189, 190, 192,\n",
       "        194, 196, 198, 200, 202, 205, 208, 210, 212, 214, 216, 218, 220,\n",
       "        221, 224, 226, 228, 230, 234, 236, 239, 240, 242, 244, 248, 252,\n",
       "        254, 259, 264, 268, 272, 275, 280, 286, 291, 293, 294, 301, 318,\n",
       "        330, 386, 552]),\n",
       " array([1252,    1,    1,    1,    1,    2,    2,    2,    1,    2,    3,\n",
       "           1,    1,    1,    1,    1,    1,    1,    1,    1,    1,    1,\n",
       "           1,    2,    2,    1,    2,    1,    1,    1,    1,    6,    1,\n",
       "           1,    2,    3,    1,    2,   15,    2,    2,    4,    5,    1,\n",
       "           3,    3,    1,    1,    1,    1,    2,    1,    1,    1,    5,\n",
       "           1,    1,    3,    2,    4,    2,    2,    1,    3,    2,    1,\n",
       "           1,    1,    1,    3,    1,    2,    1,    3,    2,    1,    2,\n",
       "           5,    1,    1,    1,    1,    2,    2,    1,    1,    1,    1,\n",
       "           5,    1,    1,    1,    2,    1,    3,    1,    2,    2,    1,\n",
       "           2,    1,    2,    1,    4,    1,    1,    2,    1,    1,    1,\n",
       "           1,    1,    1,    1,    1,    1,    1,    1,    1,    1]))"
      ]
     },
     "execution_count": 78,
     "metadata": {},
     "output_type": "execute_result"
    }
   ],
   "source": [
    "np.unique(df['EnclosedPorch'],return_counts = True)"
   ]
  },
  {
   "cell_type": "code",
   "execution_count": 79,
   "id": "dedicated-woman",
   "metadata": {},
   "outputs": [
    {
     "data": {
      "text/plain": [
       "(array([  0,  23,  96, 130, 140, 144, 153, 162, 168, 180, 182, 196, 216,\n",
       "        238, 245, 290, 304, 320, 407, 508]),\n",
       " array([1436,    1,    1,    1,    1,    2,    1,    1,    3,    2,    1,\n",
       "           1,    2,    1,    1,    1,    1,    1,    1,    1]))"
      ]
     },
     "execution_count": 79,
     "metadata": {},
     "output_type": "execute_result"
    }
   ],
   "source": [
    "np.unique(df['3SsnPorch'],return_counts = True)"
   ]
  },
  {
   "cell_type": "code",
   "execution_count": 80,
   "id": "otherwise-citizenship",
   "metadata": {},
   "outputs": [
    {
     "data": {
      "text/plain": [
       "(array([  0,  40,  53,  60,  63,  80,  90,  95,  99, 100, 116, 119, 120,\n",
       "        122, 126, 128, 130, 140, 142, 143, 144, 145, 147, 152, 153, 154,\n",
       "        155, 156, 160, 161, 163, 165, 168, 170, 175, 176, 178, 180, 182,\n",
       "        184, 185, 189, 190, 192, 197, 198, 200, 204, 210, 216, 220, 222,\n",
       "        224, 225, 233, 234, 252, 259, 260, 263, 265, 266, 271, 273, 276,\n",
       "        287, 288, 291, 312, 322, 374, 385, 396, 410, 440, 480]),\n",
       " array([1344,    1,    1,    1,    1,    1,    3,    1,    1,    2,    1,\n",
       "           1,    5,    1,    3,    1,    1,    1,    2,    1,    3,    1,\n",
       "           3,    1,    1,    1,    1,    1,    3,    1,    1,    1,    3,\n",
       "           2,    1,    2,    1,    4,    1,    2,    1,    4,    1,    6,\n",
       "           1,    2,    2,    1,    1,    2,    1,    1,    5,    1,    1,\n",
       "           1,    1,    2,    1,    1,    1,    1,    1,    1,    1,    1,\n",
       "           2,    1,    1,    1,    1,    1,    1,    1,    1,    1]))"
      ]
     },
     "execution_count": 80,
     "metadata": {},
     "output_type": "execute_result"
    }
   ],
   "source": [
    "np.unique(df['ScreenPorch'],return_counts = True)"
   ]
  },
  {
   "cell_type": "code",
   "execution_count": 81,
   "id": "analyzed-verse",
   "metadata": {},
   "outputs": [
    {
     "data": {
      "text/plain": [
       "(array([  0, 480, 512, 519, 555, 576, 648, 738]),\n",
       " array([1453,    1,    1,    1,    1,    1,    1,    1]))"
      ]
     },
     "execution_count": 81,
     "metadata": {},
     "output_type": "execute_result"
    }
   ],
   "source": [
    "np.unique(df['PoolArea'],return_counts = True)"
   ]
  },
  {
   "cell_type": "code",
   "execution_count": 82,
   "id": "romance-driver",
   "metadata": {},
   "outputs": [
    {
     "data": {
      "text/plain": [
       "(array(['0', 'Ex', 'Fa', 'Gd'], dtype=object), array([1453,    2,    2,    3]))"
      ]
     },
     "execution_count": 82,
     "metadata": {},
     "output_type": "execute_result"
    }
   ],
   "source": [
    "np.unique(df['PoolQC'],return_counts = True)"
   ]
  },
  {
   "cell_type": "code",
   "execution_count": 83,
   "id": "thrown-bridge",
   "metadata": {},
   "outputs": [
    {
     "data": {
      "text/plain": [
       "(array(['0', 'GdPrv', 'GdWo', 'MnPrv', 'MnWw'], dtype=object),\n",
       " array([1179,   59,   54,  157,   11]))"
      ]
     },
     "execution_count": 83,
     "metadata": {},
     "output_type": "execute_result"
    }
   ],
   "source": [
    "np.unique(df['Fence'],return_counts = True)"
   ]
  },
  {
   "cell_type": "code",
   "execution_count": 84,
   "id": "structured-philip",
   "metadata": {},
   "outputs": [
    {
     "data": {
      "text/plain": [
       "(array(['0', 'Gar2', 'Othr', 'Shed', 'TenC'], dtype=object),\n",
       " array([1406,    2,    2,   49,    1]))"
      ]
     },
     "execution_count": 84,
     "metadata": {},
     "output_type": "execute_result"
    }
   ],
   "source": [
    "np.unique(df['MiscFeature'],return_counts = True)"
   ]
  },
  {
   "cell_type": "code",
   "execution_count": 85,
   "id": "coated-racing",
   "metadata": {},
   "outputs": [
    {
     "data": {
      "text/plain": [
       "(array([    0,    54,   350,   400,   450,   480,   500,   560,   600,\n",
       "          620,   700,   800,  1150,  1200,  1300,  1400,  2000,  2500,\n",
       "         3500,  8300, 15500]),\n",
       " array([1408,    1,    1,   11,    4,    2,    8,    1,    4,    1,    5,\n",
       "           1,    1,    2,    1,    1,    4,    1,    1,    1,    1]))"
      ]
     },
     "execution_count": 85,
     "metadata": {},
     "output_type": "execute_result"
    }
   ],
   "source": [
    "np.unique(df['MiscVal'],return_counts = True)"
   ]
  },
  {
   "cell_type": "code",
   "execution_count": 86,
   "id": "actual-premium",
   "metadata": {},
   "outputs": [
    {
     "data": {
      "text/plain": [
       "(array([ 1,  2,  3,  4,  5,  6,  7,  8,  9, 10, 11, 12]),\n",
       " array([ 58,  52, 106, 141, 204, 253, 234, 122,  63,  89,  79,  59]))"
      ]
     },
     "execution_count": 86,
     "metadata": {},
     "output_type": "execute_result"
    }
   ],
   "source": [
    "np.unique(df['MoSold'],return_counts = True)"
   ]
  },
  {
   "cell_type": "code",
   "execution_count": 87,
   "id": "educated-resident",
   "metadata": {},
   "outputs": [
    {
     "data": {
      "text/plain": [
       "(array([2006, 2007, 2008, 2009, 2010]), array([314, 329, 304, 338, 175]))"
      ]
     },
     "execution_count": 87,
     "metadata": {},
     "output_type": "execute_result"
    }
   ],
   "source": [
    "np.unique(df['YrSold'],return_counts = True)"
   ]
  },
  {
   "cell_type": "code",
   "execution_count": 88,
   "id": "retained-dryer",
   "metadata": {},
   "outputs": [
    {
     "data": {
      "text/plain": [
       "(array(['COD', 'CWD', 'Con', 'ConLD', 'ConLI', 'ConLw', 'New', 'Oth', 'WD'],\n",
       "       dtype=object),\n",
       " array([  43,    4,    2,    9,    5,    5,  122,    3, 1267]))"
      ]
     },
     "execution_count": 88,
     "metadata": {},
     "output_type": "execute_result"
    }
   ],
   "source": [
    "np.unique(df['SaleType'],return_counts = True)"
   ]
  },
  {
   "cell_type": "code",
   "execution_count": 89,
   "id": "qualified-booth",
   "metadata": {},
   "outputs": [
    {
     "data": {
      "text/plain": [
       "(array(['Abnorml', 'AdjLand', 'Alloca', 'Family', 'Normal', 'Partial'],\n",
       "       dtype=object),\n",
       " array([ 101,    4,   12,   20, 1198,  125]))"
      ]
     },
     "execution_count": 89,
     "metadata": {},
     "output_type": "execute_result"
    }
   ],
   "source": [
    "np.unique(df['SaleCondition'],return_counts = True)"
   ]
  },
  {
   "cell_type": "code",
   "execution_count": 90,
   "id": "realistic-morrison",
   "metadata": {},
   "outputs": [
    {
     "data": {
      "text/plain": [
       "(array([ 34900,  35311,  37900,  39300,  40000,  52000,  52500,  55000,\n",
       "         55993,  58500,  60000,  61000,  62383,  64500,  66500,  67000,\n",
       "         68400,  68500,  72500,  73000,  75000,  75500,  76000,  76500,\n",
       "         78000,  79000,  79500,  79900,  80000,  80500,  81000,  82000,\n",
       "         82500,  83000,  83500,  84000,  84500,  84900,  85000,  85400,\n",
       "         85500,  86000,  87000,  87500,  88000,  89000,  89471,  89500,\n",
       "         90000,  90350,  91000,  91300,  91500,  92000,  92900,  93000,\n",
       "         93500,  94000,  94500,  94750,  95000,  96500,  97000,  97500,\n",
       "         98000,  98300,  98600,  99500,  99900, 100000, 101000, 101800,\n",
       "        102000, 102776, 103000, 103200, 103600, 104000, 104900, 105000,\n",
       "        105500, 105900, 106000, 106250, 106500, 107000, 107400, 107500,\n",
       "        107900, 108000, 108480, 108500, 108959, 109000, 109008, 109500,\n",
       "        109900, 110000, 110500, 111000, 111250, 112000, 112500, 113000,\n",
       "        114500, 114504, 115000, 116000, 116050, 116500, 116900, 117000,\n",
       "        117500, 118000, 118400, 118500, 118858, 118964, 119000, 119200,\n",
       "        119500, 119750, 119900, 120000, 120500, 121000, 121500, 121600,\n",
       "        122000, 122500, 122900, 123000, 123500, 123600, 124000, 124500,\n",
       "        124900, 125000, 125500, 126000, 126175, 126500, 127000, 127500,\n",
       "        128000, 128200, 128500, 128900, 128950, 129000, 129500, 129900,\n",
       "        130000, 130250, 130500, 131000, 131400, 131500, 132000, 132250,\n",
       "        132500, 133000, 133500, 133700, 133900, 134000, 134432, 134450,\n",
       "        134500, 134800, 134900, 135000, 135500, 135750, 135900, 135960,\n",
       "        136000, 136500, 136900, 136905, 137000, 137450, 137500, 137900,\n",
       "        138000, 138500, 138800, 138887, 139000, 139400, 139500, 139600,\n",
       "        139900, 139950, 140000, 140200, 141000, 141500, 142000, 142125,\n",
       "        142500, 142600, 142953, 143000, 143250, 143500, 143750, 143900,\n",
       "        144000, 144152, 144500, 144900, 145000, 145250, 145500, 145900,\n",
       "        146000, 146500, 146800, 147000, 147400, 147500, 148000, 148500,\n",
       "        148800, 149000, 149300, 149350, 149500, 149700, 149900, 150000,\n",
       "        150500, 150750, 150900, 151000, 151400, 151500, 152000, 153000,\n",
       "        153337, 153500, 153575, 153900, 154000, 154300, 154500, 154900,\n",
       "        155000, 155835, 155900, 156000, 156500, 156932, 157000, 157500,\n",
       "        157900, 158000, 158500, 158900, 159000, 159434, 159500, 159895,\n",
       "        159950, 160000, 160200, 161000, 161500, 161750, 162000, 162500,\n",
       "        162900, 163000, 163500, 163900, 163990, 164000, 164500, 164700,\n",
       "        164900, 164990, 165000, 165150, 165400, 165500, 165600, 166000,\n",
       "        167000, 167240, 167500, 167900, 168000, 168500, 169000, 169500,\n",
       "        169900, 169990, 170000, 171000, 171500, 171750, 171900, 172000,\n",
       "        172400, 172500, 172785, 173000, 173500, 173733, 173900, 174000,\n",
       "        174500, 174900, 175000, 175500, 175900, 176000, 176432, 176485,\n",
       "        176500, 177000, 177500, 178000, 178400, 178740, 178900, 179000,\n",
       "        179200, 179400, 179500, 179540, 179600, 179665, 179900, 180000,\n",
       "        180500, 181000, 181134, 181500, 181900, 182000, 182900, 183000,\n",
       "        183200, 183500, 183900, 184000, 184100, 184750, 184900, 185000,\n",
       "        185500, 185750, 185850, 185900, 186000, 186500, 186700, 187000,\n",
       "        187100, 187500, 187750, 188000, 188500, 188700, 189000, 189950,\n",
       "        190000, 191000, 192000, 192140, 192500, 193000, 193500, 193879,\n",
       "        194000, 194201, 194500, 194700, 195000, 195400, 196000, 196500,\n",
       "        197000, 197500, 197900, 198500, 198900, 199900, 200000, 200100,\n",
       "        200141, 200500, 200624, 201000, 201800, 202500, 202665, 202900,\n",
       "        203000, 204000, 204750, 204900, 205000, 205950, 206000, 206300,\n",
       "        206900, 207000, 207500, 208300, 208500, 208900, 209500, 210000,\n",
       "        211000, 212000, 212900, 213000, 213250, 213490, 213500, 214000,\n",
       "        214500, 214900, 215000, 215200, 216000, 216500, 216837, 217000,\n",
       "        217500, 218000, 219210, 219500, 220000, 221000, 221500, 222000,\n",
       "        222500, 223000, 223500, 224000, 224500, 224900, 225000, 226000,\n",
       "        226700, 227000, 227680, 227875, 228000, 228500, 228950, 229000,\n",
       "        229456, 230000, 230500, 231500, 232000, 232600, 233000, 233170,\n",
       "        233230, 234000, 235000, 235128, 236000, 236500, 237000, 237500,\n",
       "        238000, 239000, 239500, 239686, 239799, 239900, 240000, 241000,\n",
       "        241500, 242000, 243000, 244000, 244400, 244600, 245000, 245350,\n",
       "        245500, 246578, 248000, 248328, 248900, 249700, 250000, 250580,\n",
       "        251000, 252000, 252678, 253000, 253293, 254000, 254900, 255000,\n",
       "        255500, 255900, 256000, 256300, 257000, 257500, 258000, 259000,\n",
       "        259500, 260000, 260400, 261500, 262000, 262280, 262500, 263000,\n",
       "        263435, 264132, 264561, 265000, 265900, 265979, 266000, 266500,\n",
       "        267000, 268000, 269500, 269790, 270000, 271000, 271900, 272000,\n",
       "        274000, 274300, 274725, 274900, 274970, 275000, 275500, 276000,\n",
       "        277000, 277500, 278000, 279500, 280000, 281000, 281213, 282922,\n",
       "        283463, 284000, 285000, 286000, 287000, 287090, 289000, 290000,\n",
       "        293077, 294000, 295000, 295493, 297000, 299800, 301000, 301500,\n",
       "        302000, 303477, 305000, 305900, 306000, 307000, 309000, 310000,\n",
       "        311500, 311872, 312500, 313000, 314813, 315000, 315500, 315750,\n",
       "        316600, 317000, 318000, 318061, 319000, 319900, 320000, 324000,\n",
       "        325000, 325300, 325624, 326000, 328000, 328900, 333168, 335000,\n",
       "        336000, 337000, 337500, 339750, 340000, 341000, 342643, 345000,\n",
       "        348000, 350000, 354000, 359100, 360000, 361919, 367294, 369900,\n",
       "        370878, 372402, 372500, 374000, 375000, 377426, 377500, 378500,\n",
       "        380000, 381000, 383970, 385000, 386250, 392000, 392500, 394432,\n",
       "        394617, 395000, 395192, 402000, 402861, 403000, 410000, 412500,\n",
       "        415298, 423000, 424870, 426000, 430000, 437154, 438780, 440000,\n",
       "        446261, 451950, 465000, 466500, 475000, 485000, 501837, 538000,\n",
       "        555000, 556581, 582933, 611657, 625000, 745000, 755000]),\n",
       " array([ 1,  1,  1,  1,  1,  1,  1,  2,  1,  1,  3,  1,  1,  1,  1,  2,  1,\n",
       "         1,  1,  1,  1,  1,  1,  1,  1,  3,  1,  2,  4,  1,  3,  3,  3,  2,\n",
       "         1,  1,  3,  1,  4,  1,  1,  3,  4,  1,  4,  1,  1,  2,  3,  1,  3,\n",
       "         1,  2,  1,  1,  3,  2,  1,  1,  1,  2,  2,  3,  1,  3,  1,  1,  1,\n",
       "         1,  9,  1,  1,  3,  1,  1,  1,  1,  1,  2,  5,  1,  1,  3,  1,  2,\n",
       "         3,  1,  3,  1,  6,  1,  1,  1,  2,  1,  4,  3, 13,  2,  1,  1,  7,\n",
       "         2,  6,  2,  1, 12,  3,  1,  1,  1,  4,  2,  6,  1,  4,  1,  1,  7,\n",
       "         1,  4,  1,  2,  7,  4,  1,  1,  1,  4,  2,  1,  4,  1,  1,  6,  4,\n",
       "         2, 10,  4,  3,  1,  1,  9,  6,  7,  1,  4,  1,  1,  8,  4,  4, 11,\n",
       "         1,  3,  3,  1,  3,  6,  1,  6,  6,  1,  1,  2,  3,  1,  1,  2,  1,\n",
       "         2, 17,  2,  1,  1,  1,  3,  5,  1,  1,  5,  1,  6,  1,  3,  2,  1,\n",
       "         1, 11,  2,  1,  1,  1,  1, 20,  1,  8,  1,  4,  1,  3,  1,  1, 10,\n",
       "         1,  2,  1,  1, 10,  1,  2,  1, 14,  1,  1,  1,  3,  1,  1,  9,  1,\n",
       "         1,  7,  3,  1,  4,  1,  1,  2,  1,  4,  4,  1,  1,  1,  5,  1,  1,\n",
       "         6,  3,  1,  3,  1,  2,  5,  1,  1,  1, 14,  1,  1,  4,  1,  1,  6,\n",
       "         2,  2,  6,  1,  1,  4,  1,  3,  1,  1, 12,  1,  2,  2,  1,  4,  1,\n",
       "         2,  4,  2,  1,  1,  3,  2,  1,  1,  1,  8,  1,  1,  3,  1,  2,  4,\n",
       "         1,  3,  2,  4,  3,  3,  2,  1,  1,  8,  5,  1,  1,  1,  1,  1,  5,\n",
       "         1,  7,  1,  1,  1,  7,  1,  1,  9,  3,  2,  8,  1,  1,  2,  5,  3,\n",
       "         7,  1,  1,  1,  3,  2,  1,  1,  1,  1,  1,  5, 10,  4,  7,  1,  1,\n",
       "         1,  1,  1,  1,  1,  1,  1,  4,  1,  1,  1, 10,  1,  1,  1,  1,  1,\n",
       "         2,  1,  3,  1,  6,  1,  3,  1,  1,  6,  1, 13,  4,  5,  1,  2,  3,\n",
       "         2,  1,  3,  1,  3,  1,  3,  1,  3,  2,  4,  2,  3,  1,  1,  2,  8,\n",
       "         1,  1,  2,  1,  3,  1,  3,  1,  1,  2,  2,  1,  1,  6,  1,  1,  1,\n",
       "         1,  2,  5,  1,  1,  2,  1,  5,  2,  3,  1,  3,  1,  1,  2,  5,  1,\n",
       "         1,  8,  1,  1,  1,  1,  2,  1,  1,  1,  3,  5,  2,  1,  3,  2,  1,\n",
       "         2,  2,  1,  2,  6,  3,  1,  3,  1,  1,  2,  2,  1,  1,  1,  8,  1,\n",
       "         2,  3,  1,  1,  1,  1,  2,  7,  1,  2,  2,  2,  1,  1,  6,  1,  1,\n",
       "         1,  1,  6,  1,  2,  2,  1,  3,  1,  1,  1,  1,  1,  1,  2,  1,  1,\n",
       "         1,  8,  1,  1,  1,  1,  1,  1,  1,  1,  2,  1,  1,  2,  1,  1,  1,\n",
       "         1,  1,  1,  6,  1,  1,  1,  1,  2,  1,  1,  1,  1,  1,  1,  1,  2,\n",
       "         1,  1,  2,  1,  1,  3,  2,  1,  2,  1,  1,  1,  1,  1,  5,  1,  1,\n",
       "         2,  1,  2,  1,  4,  1,  1,  1,  1,  2,  3,  1,  2,  1,  1,  5,  1,\n",
       "         1,  1,  1,  1,  1,  1,  1,  2,  1,  1,  1,  1,  1,  1,  2,  1,  1,\n",
       "         1,  1,  1,  4,  1,  1,  1,  1,  2,  1,  1,  1,  4,  1,  4,  1,  1,\n",
       "         1,  1,  1,  1,  3,  1,  1,  1,  1,  2,  1,  1,  2,  1,  2,  1,  1,\n",
       "         1,  1,  1,  1,  1,  1,  1,  1,  1,  1,  1,  1,  1,  1,  1,  2,  1,\n",
       "         1,  1,  1,  1,  1,  1,  1,  1,  1,  1,  1,  1,  1,  1,  1,  1,  1,\n",
       "         1,  1,  1,  1,  1,  1,  1,  1,  1,  1,  1,  1,  1,  1,  1,  1,  1]))"
      ]
     },
     "execution_count": 90,
     "metadata": {},
     "output_type": "execute_result"
    }
   ],
   "source": [
    "np.unique(df['SalePrice'],return_counts = True)"
   ]
  },
  {
   "cell_type": "code",
   "execution_count": null,
   "id": "historical-greene",
   "metadata": {},
   "outputs": [],
   "source": []
  },
  {
   "cell_type": "code",
   "execution_count": null,
   "id": "perfect-leone",
   "metadata": {},
   "outputs": [],
   "source": []
  },
  {
   "cell_type": "code",
   "execution_count": null,
   "id": "contrary-actor",
   "metadata": {},
   "outputs": [],
   "source": []
  },
  {
   "cell_type": "code",
   "execution_count": null,
   "id": "molecular-mining",
   "metadata": {},
   "outputs": [],
   "source": []
  },
  {
   "cell_type": "code",
   "execution_count": null,
   "id": "rough-fabric",
   "metadata": {},
   "outputs": [],
   "source": []
  },
  {
   "cell_type": "code",
   "execution_count": null,
   "id": "representative-deviation",
   "metadata": {},
   "outputs": [],
   "source": []
  },
  {
   "cell_type": "code",
   "execution_count": null,
   "id": "international-violation",
   "metadata": {},
   "outputs": [],
   "source": []
  },
  {
   "cell_type": "code",
   "execution_count": null,
   "id": "virgin-breathing",
   "metadata": {},
   "outputs": [],
   "source": []
  }
 ],
 "metadata": {
  "kernelspec": {
   "display_name": "Python 3",
   "language": "python",
   "name": "python3"
  },
  "language_info": {
   "codemirror_mode": {
    "name": "ipython",
    "version": 3
   },
   "file_extension": ".py",
   "mimetype": "text/x-python",
   "name": "python",
   "nbconvert_exporter": "python",
   "pygments_lexer": "ipython3",
   "version": "3.6.9"
  }
 },
 "nbformat": 4,
 "nbformat_minor": 5
}
